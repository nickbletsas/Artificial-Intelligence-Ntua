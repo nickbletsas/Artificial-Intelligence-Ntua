{
  "cells": [
    {
      "cell_type": "markdown",
      "metadata": {
        "id": "K2CYQhbxW9nP"
      },
      "source": [
        "### Μέλη Ομάδας:\n",
        "Ον/μο1:  Δημήτριος Κοκκίνης\n",
        "Αρ. Μητρώου 1:  03118896\n",
        "\n",
        "Ον/μο2:  Νικόλαος Μπλέτσας\n",
        "Αρ. Μητρώου 2: 03118899"
      ]
    },
    {
      "cell_type": "markdown",
      "metadata": {
        "id": "heT7siZWZjQD"
      },
      "source": [
        "# Τεχνητή Νοημοσύνη: Εργαστηριακή Άσκηση 3 \n",
        "Στην άσκηση αυτή θα υλοποιηθούν διάφοροι (σχετικά απλοί) αλγόριθμοι μηχανικής μάθησης για την αυτόματη αναγνώριση μεταξύ 3 μουσικών είδών απο τα δεδομένα που προσφέρει η υπηρεσία Spotify. Συγκεκριμένα, θα δίνονται δύο σύνολα δεδομένων $$Ζ_{train}=\\{(x_1,y_1),\\dots,(x_n,y_n)\\}$$ $$Z_{test} = \\{(x_j,y_j),\\dots{,(x_k,y_k)}\\}$$ όπου κάθε $x_i\\in{\\mathbb{R}^p}$ είναι ένα διάνυσμα με τα μουσικά χαρακτηριστικά κάθε κομματιού (όπως dancability, acousticness κ.α.) και $y_i$ είναι το είδος του κομματιού - ένας ακέραιος στο $[0,2]$. Σε κάθε περίπτωση καλείστε να σχεδιάσετε έναν ταξινομητή, δηλαδή μια απεικόνιση $$f:\\mathbb{R}^p\\rightarrow{[0,2]}$$"
      ]
    },
    {
      "cell_type": "markdown",
      "metadata": {
        "id": "Rvm0mywsZmit"
      },
      "source": [
        "# 1ο Μέρος: Αξιολόγηση\n",
        "Στο πρώτο μέρος της άσκησης θα υλοποιηθούν συναρτήσεις που θα χρησιμοποιηθούν για την αξιολόγηση των ταξινομητών που θα χρησιμοποιηθούν στα επόμενα μέρη.\n",
        "\n",
        "Παρακάτω σας δίνεται η κλάση Evaluate, η οποία υπολογίζει διάφορες μετρικές με τη μέθοδο get_metrics, εντοπίζει αντικείμενα που ταξινομήθηκαν λάθος και τα εμφανίζει (μέθοδος get_sample_of_wrong), και υπολογίζει τον πίνακα σύγχυσης (confusion matrix) όπου οπτικοποιούνται ανά κατηγορία οι προβλέψεις του ταξινομητή.\n",
        "\n",
        "Για το μέρος αυτό καλείστε να υλοποιήσετε στη μέθοδο my_accuracy τη μετρική accuracy, η οποία ορίζεται ως:\n",
        "$$accuracy = \\frac{\\#σωστών\\_προβλέψεων}{\\#δεδομένων}$$\n",
        "\n"
      ]
    },
    {
      "cell_type": "code",
      "execution_count": null,
      "metadata": {
        "id": "WlTj48uFZhyJ"
      },
      "outputs": [],
      "source": [
        "from sklearn.metrics import confusion_matrix, f1_score, precision_score, recall_score\n",
        "from matplotlib import pyplot as plt\n",
        "import numpy as np\n",
        "import random\n",
        "\n",
        "class Evaluate:\n",
        "    def __init__(self, y_true, y_pred):\n",
        "        self.y_true = y_true\n",
        "        self.y_pred = y_pred\n",
        "\n",
        "    def my_accuracy(self):\n",
        "      y_true = self.y_true\n",
        "      y_pred = self.y_pred\n",
        "      \n",
        "      ##################\n",
        "      ## Your code below\n",
        "      count = 0\n",
        "      for i in range(len(self.y_true)):\n",
        "          if self.y_true[i] == self.y_pred[i]: #σωστές προβλέψεις\n",
        "              count +=1\n",
        "\n",
        "      acc = count/len(self.y_pred) \n",
        "      ## Your code above\n",
        "      ##################\n",
        "      return acc\n",
        "\n",
        "    def get_metrics(self):\n",
        "        precision = precision_score(self.y_true, self.y_pred, average = \"macro\")\n",
        "        recall = recall_score(self.y_true, self.y_pred, average = \"macro\")\n",
        "        f1 = f1_score(self.y_true, self.y_pred, average = \"macro\")\n",
        "        results = {\"precision\": precision, \"recall\": recall, \"f1\": f1, \"accuracy\": self.my_accuracy()}\n",
        "        return results   \n",
        "    \n",
        "    def confusion_matrix(self):\n",
        "        cm = confusion_matrix(self.y_true, self.y_pred)\n",
        "        return cm \n",
        "\n",
        "    def get_evaluation_report(self):\n",
        "        metrics = self.get_metrics()\n",
        "        for m in metrics:\n",
        "            print(m + ': ' + str(metrics[m]))\n",
        "        cm = self.confusion_matrix()\n",
        "        print(\"Confusion matrix: \")\n",
        "        print(cm)"
      ]
    },
    {
      "cell_type": "markdown",
      "metadata": {
        "id": "3qcSvLy6ZpzB"
      },
      "source": [
        "Παράδειγμα χρήσης της κλάσης. Κανονικά στο x θα υπάρχουν τα δεδομένα από το dataset"
      ]
    },
    {
      "cell_type": "code",
      "execution_count": null,
      "metadata": {
        "id": "S5hRZ9L1ZoNJ",
        "colab": {
          "base_uri": "https://localhost:8080/"
        },
        "outputId": "5c7892a9-9ad6-4491-ffd9-9c8d4d021ff0"
      },
      "outputs": [
        {
          "output_type": "stream",
          "name": "stdout",
          "text": [
            "precision: 0.75\n",
            "recall: 0.75\n",
            "f1: 0.75\n",
            "accuracy: 0.75\n",
            "Confusion matrix: \n",
            "[[3 1]\n",
            " [1 3]]\n"
          ]
        }
      ],
      "source": [
        "y_true = [1, 0, 1, 0, 0, 1, 1, 0]\n",
        "y_pred = [1, 0, 1, 0, 1, 1, 0, 0]\n",
        "\n",
        "eval = Evaluate(y_true, y_pred)\n",
        "eval.get_evaluation_report()"
      ]
    },
    {
      "cell_type": "markdown",
      "metadata": {
        "id": "h9Sex6aEZtt9"
      },
      "source": [
        "# Dataset\n",
        "\n",
        "To dataset που σας δίνεται περιέχει πληθώρα μουσικών κομματιών για τα οποία έχουν καταγραφεί διάφορα χαρακτηριστικά τους, όπως επίσης και το μουσικό είδος στο οποίο ανήκουν. Στη συγκεκριμένη άσκηση θα δουλέψουμε με ένα υποσύνολο (αριθμητικών) χαρακτηριστικών, τα οποία συνεισφέρουν στον καθορισμό της μουσικής κατηγορίας κάθε κομματιού.  \n",
        "\n",
        "Τα χαρακτηριστικά τα οποία θα μελετήσουμε στην παρούσα άσκηση είναι τα \"acousticness\", \"danceability\", \"energy\", \"instrumentalness\", \"liveness\", \"speechiness\", ενώ οι κατηγορίες στις οποίες καλούμαστε να ταξινομήσουμε τα μουσικά κομμάτια είναι οι \"Electronic\", \"Rock\", και \"Rap\".  \n"
      ]
    },
    {
      "cell_type": "code",
      "execution_count": null,
      "metadata": {
        "id": "RCVa4LWpqraw",
        "colab": {
          "base_uri": "https://localhost:8080/"
        },
        "outputId": "e48ea3f5-c642-4889-ee6d-6b27b0714838"
      },
      "outputs": [
        {
          "output_type": "stream",
          "name": "stdout",
          "text": [
            "Mounted at /content/drive\n"
          ]
        }
      ],
      "source": [
        "# Σύνδεση του Google Colab με το Google Drive\n",
        "\n",
        "from google.colab import drive\n",
        "drive.mount('/content/drive')"
      ]
    },
    {
      "cell_type": "markdown",
      "source": [
        "Θα χρησιμοποιήσουμε τα DataFrames της βιβλιοθήκης pandas για να χειριστούμε τα δεδομένα μας. Μπορείτε να βρείτε περισσότερες πληροφορίες για τα pandas DataFrames στο αντίστοιχο [documentation](https://pandas.pydata.org/docs/reference/api/pandas.DataFrame.html)."
      ],
      "metadata": {
        "id": "5sKETzTHNgyk"
      }
    },
    {
      "cell_type": "code",
      "execution_count": null,
      "metadata": {
        "id": "YvbVV9isZrwZ"
      },
      "outputs": [],
      "source": [
        "import pandas as pd\n",
        "from tqdm.notebook import tqdm "
      ]
    },
    {
      "cell_type": "code",
      "execution_count": null,
      "metadata": {
        "id": "YKpUJSpWqy-I",
        "colab": {
          "base_uri": "https://localhost:8080/",
          "height": 339
        },
        "outputId": "d9fe6be9-8c22-43f3-fee9-35b7df0ad6eb"
      },
      "outputs": [
        {
          "output_type": "execute_result",
          "data": {
            "text/html": [
              "\n",
              "  <div id=\"df-fb7b7ca4-79ed-4314-9cca-2841f57f918a\">\n",
              "    <div class=\"colab-df-container\">\n",
              "      <div>\n",
              "<style scoped>\n",
              "    .dataframe tbody tr th:only-of-type {\n",
              "        vertical-align: middle;\n",
              "    }\n",
              "\n",
              "    .dataframe tbody tr th {\n",
              "        vertical-align: top;\n",
              "    }\n",
              "\n",
              "    .dataframe thead th {\n",
              "        text-align: right;\n",
              "    }\n",
              "</style>\n",
              "<table border=\"1\" class=\"dataframe\">\n",
              "  <thead>\n",
              "    <tr style=\"text-align: right;\">\n",
              "      <th></th>\n",
              "      <th>instance_id</th>\n",
              "      <th>artist_name</th>\n",
              "      <th>track_name</th>\n",
              "      <th>popularity</th>\n",
              "      <th>acousticness</th>\n",
              "      <th>danceability</th>\n",
              "      <th>duration_ms</th>\n",
              "      <th>energy</th>\n",
              "      <th>instrumentalness</th>\n",
              "      <th>key</th>\n",
              "      <th>liveness</th>\n",
              "      <th>loudness</th>\n",
              "      <th>mode</th>\n",
              "      <th>speechiness</th>\n",
              "      <th>tempo</th>\n",
              "      <th>obtained_date</th>\n",
              "      <th>valence</th>\n",
              "      <th>music_genre</th>\n",
              "    </tr>\n",
              "  </thead>\n",
              "  <tbody>\n",
              "    <tr>\n",
              "      <th>0</th>\n",
              "      <td>32894.0</td>\n",
              "      <td>Röyksopp</td>\n",
              "      <td>Röyksopp's Night Out</td>\n",
              "      <td>27.0</td>\n",
              "      <td>0.00468</td>\n",
              "      <td>0.652</td>\n",
              "      <td>-1.0</td>\n",
              "      <td>0.941</td>\n",
              "      <td>0.79200</td>\n",
              "      <td>A#</td>\n",
              "      <td>0.115</td>\n",
              "      <td>-5.201</td>\n",
              "      <td>Minor</td>\n",
              "      <td>0.0748</td>\n",
              "      <td>100.889</td>\n",
              "      <td>4-Apr</td>\n",
              "      <td>0.759</td>\n",
              "      <td>Electronic</td>\n",
              "    </tr>\n",
              "    <tr>\n",
              "      <th>1</th>\n",
              "      <td>46652.0</td>\n",
              "      <td>Thievery Corporation</td>\n",
              "      <td>The Shining Path</td>\n",
              "      <td>31.0</td>\n",
              "      <td>0.01270</td>\n",
              "      <td>0.622</td>\n",
              "      <td>218293.0</td>\n",
              "      <td>0.890</td>\n",
              "      <td>0.95000</td>\n",
              "      <td>D</td>\n",
              "      <td>0.124</td>\n",
              "      <td>-7.043</td>\n",
              "      <td>Minor</td>\n",
              "      <td>0.0300</td>\n",
              "      <td>115.002</td>\n",
              "      <td>4-Apr</td>\n",
              "      <td>0.531</td>\n",
              "      <td>Electronic</td>\n",
              "    </tr>\n",
              "    <tr>\n",
              "      <th>2</th>\n",
              "      <td>30097.0</td>\n",
              "      <td>Dillon Francis</td>\n",
              "      <td>Hurricane</td>\n",
              "      <td>28.0</td>\n",
              "      <td>0.00306</td>\n",
              "      <td>0.620</td>\n",
              "      <td>215613.0</td>\n",
              "      <td>0.755</td>\n",
              "      <td>0.01180</td>\n",
              "      <td>G#</td>\n",
              "      <td>0.534</td>\n",
              "      <td>-4.617</td>\n",
              "      <td>Major</td>\n",
              "      <td>0.0345</td>\n",
              "      <td>127.994</td>\n",
              "      <td>4-Apr</td>\n",
              "      <td>0.333</td>\n",
              "      <td>Electronic</td>\n",
              "    </tr>\n",
              "    <tr>\n",
              "      <th>3</th>\n",
              "      <td>62177.0</td>\n",
              "      <td>Dubloadz</td>\n",
              "      <td>Nitro</td>\n",
              "      <td>34.0</td>\n",
              "      <td>0.02540</td>\n",
              "      <td>0.774</td>\n",
              "      <td>166875.0</td>\n",
              "      <td>0.700</td>\n",
              "      <td>0.00253</td>\n",
              "      <td>C#</td>\n",
              "      <td>0.157</td>\n",
              "      <td>-4.498</td>\n",
              "      <td>Major</td>\n",
              "      <td>0.2390</td>\n",
              "      <td>128.014</td>\n",
              "      <td>4-Apr</td>\n",
              "      <td>0.270</td>\n",
              "      <td>Electronic</td>\n",
              "    </tr>\n",
              "    <tr>\n",
              "      <th>4</th>\n",
              "      <td>24907.0</td>\n",
              "      <td>What So Not</td>\n",
              "      <td>Divide &amp; Conquer</td>\n",
              "      <td>32.0</td>\n",
              "      <td>0.00465</td>\n",
              "      <td>0.638</td>\n",
              "      <td>222369.0</td>\n",
              "      <td>0.587</td>\n",
              "      <td>0.90900</td>\n",
              "      <td>F#</td>\n",
              "      <td>0.157</td>\n",
              "      <td>-6.266</td>\n",
              "      <td>Major</td>\n",
              "      <td>0.0413</td>\n",
              "      <td>145.036</td>\n",
              "      <td>4-Apr</td>\n",
              "      <td>0.323</td>\n",
              "      <td>Electronic</td>\n",
              "    </tr>\n",
              "  </tbody>\n",
              "</table>\n",
              "</div>\n",
              "      <button class=\"colab-df-convert\" onclick=\"convertToInteractive('df-fb7b7ca4-79ed-4314-9cca-2841f57f918a')\"\n",
              "              title=\"Convert this dataframe to an interactive table.\"\n",
              "              style=\"display:none;\">\n",
              "        \n",
              "  <svg xmlns=\"http://www.w3.org/2000/svg\" height=\"24px\"viewBox=\"0 0 24 24\"\n",
              "       width=\"24px\">\n",
              "    <path d=\"M0 0h24v24H0V0z\" fill=\"none\"/>\n",
              "    <path d=\"M18.56 5.44l.94 2.06.94-2.06 2.06-.94-2.06-.94-.94-2.06-.94 2.06-2.06.94zm-11 1L8.5 8.5l.94-2.06 2.06-.94-2.06-.94L8.5 2.5l-.94 2.06-2.06.94zm10 10l.94 2.06.94-2.06 2.06-.94-2.06-.94-.94-2.06-.94 2.06-2.06.94z\"/><path d=\"M17.41 7.96l-1.37-1.37c-.4-.4-.92-.59-1.43-.59-.52 0-1.04.2-1.43.59L10.3 9.45l-7.72 7.72c-.78.78-.78 2.05 0 2.83L4 21.41c.39.39.9.59 1.41.59.51 0 1.02-.2 1.41-.59l7.78-7.78 2.81-2.81c.8-.78.8-2.07 0-2.86zM5.41 20L4 18.59l7.72-7.72 1.47 1.35L5.41 20z\"/>\n",
              "  </svg>\n",
              "      </button>\n",
              "      \n",
              "  <style>\n",
              "    .colab-df-container {\n",
              "      display:flex;\n",
              "      flex-wrap:wrap;\n",
              "      gap: 12px;\n",
              "    }\n",
              "\n",
              "    .colab-df-convert {\n",
              "      background-color: #E8F0FE;\n",
              "      border: none;\n",
              "      border-radius: 50%;\n",
              "      cursor: pointer;\n",
              "      display: none;\n",
              "      fill: #1967D2;\n",
              "      height: 32px;\n",
              "      padding: 0 0 0 0;\n",
              "      width: 32px;\n",
              "    }\n",
              "\n",
              "    .colab-df-convert:hover {\n",
              "      background-color: #E2EBFA;\n",
              "      box-shadow: 0px 1px 2px rgba(60, 64, 67, 0.3), 0px 1px 3px 1px rgba(60, 64, 67, 0.15);\n",
              "      fill: #174EA6;\n",
              "    }\n",
              "\n",
              "    [theme=dark] .colab-df-convert {\n",
              "      background-color: #3B4455;\n",
              "      fill: #D2E3FC;\n",
              "    }\n",
              "\n",
              "    [theme=dark] .colab-df-convert:hover {\n",
              "      background-color: #434B5C;\n",
              "      box-shadow: 0px 1px 3px 1px rgba(0, 0, 0, 0.15);\n",
              "      filter: drop-shadow(0px 1px 2px rgba(0, 0, 0, 0.3));\n",
              "      fill: #FFFFFF;\n",
              "    }\n",
              "  </style>\n",
              "\n",
              "      <script>\n",
              "        const buttonEl =\n",
              "          document.querySelector('#df-fb7b7ca4-79ed-4314-9cca-2841f57f918a button.colab-df-convert');\n",
              "        buttonEl.style.display =\n",
              "          google.colab.kernel.accessAllowed ? 'block' : 'none';\n",
              "\n",
              "        async function convertToInteractive(key) {\n",
              "          const element = document.querySelector('#df-fb7b7ca4-79ed-4314-9cca-2841f57f918a');\n",
              "          const dataTable =\n",
              "            await google.colab.kernel.invokeFunction('convertToInteractive',\n",
              "                                                     [key], {});\n",
              "          if (!dataTable) return;\n",
              "\n",
              "          const docLinkHtml = 'Like what you see? Visit the ' +\n",
              "            '<a target=\"_blank\" href=https://colab.research.google.com/notebooks/data_table.ipynb>data table notebook</a>'\n",
              "            + ' to learn more about interactive tables.';\n",
              "          element.innerHTML = '';\n",
              "          dataTable['output_type'] = 'display_data';\n",
              "          await google.colab.output.renderOutput(dataTable, element);\n",
              "          const docLink = document.createElement('div');\n",
              "          docLink.innerHTML = docLinkHtml;\n",
              "          element.appendChild(docLink);\n",
              "        }\n",
              "      </script>\n",
              "    </div>\n",
              "  </div>\n",
              "  "
            ],
            "text/plain": [
              "   instance_id           artist_name  ... valence  music_genre\n",
              "0      32894.0              Röyksopp  ...   0.759   Electronic\n",
              "1      46652.0  Thievery Corporation  ...   0.531   Electronic\n",
              "2      30097.0        Dillon Francis  ...   0.333   Electronic\n",
              "3      62177.0              Dubloadz  ...   0.270   Electronic\n",
              "4      24907.0           What So Not  ...   0.323   Electronic\n",
              "\n",
              "[5 rows x 18 columns]"
            ]
          },
          "metadata": {},
          "execution_count": 6
        }
      ],
      "source": [
        "# read data in the form of pandas DataFrame\n",
        "data = pd.read_csv('/content/drive/My Drive/music_df_processed.csv')\n",
        "\n",
        "# print the first 5 values of the DataFrame using .head() command\n",
        "data.head()"
      ]
    },
    {
      "cell_type": "code",
      "source": [
        "# What can we see here?\n",
        "data.describe()"
      ],
      "metadata": {
        "id": "1mjeVnUCPVkR",
        "colab": {
          "base_uri": "https://localhost:8080/",
          "height": 300
        },
        "outputId": "b6411565-f080-4159-c0e8-0f6e1e300e39"
      },
      "execution_count": null,
      "outputs": [
        {
          "output_type": "execute_result",
          "data": {
            "text/html": [
              "\n",
              "  <div id=\"df-15dcf5b1-b855-423a-9e3c-3e89811c9313\">\n",
              "    <div class=\"colab-df-container\">\n",
              "      <div>\n",
              "<style scoped>\n",
              "    .dataframe tbody tr th:only-of-type {\n",
              "        vertical-align: middle;\n",
              "    }\n",
              "\n",
              "    .dataframe tbody tr th {\n",
              "        vertical-align: top;\n",
              "    }\n",
              "\n",
              "    .dataframe thead th {\n",
              "        text-align: right;\n",
              "    }\n",
              "</style>\n",
              "<table border=\"1\" class=\"dataframe\">\n",
              "  <thead>\n",
              "    <tr style=\"text-align: right;\">\n",
              "      <th></th>\n",
              "      <th>instance_id</th>\n",
              "      <th>popularity</th>\n",
              "      <th>acousticness</th>\n",
              "      <th>danceability</th>\n",
              "      <th>duration_ms</th>\n",
              "      <th>energy</th>\n",
              "      <th>instrumentalness</th>\n",
              "      <th>liveness</th>\n",
              "      <th>loudness</th>\n",
              "      <th>speechiness</th>\n",
              "      <th>tempo</th>\n",
              "      <th>valence</th>\n",
              "    </tr>\n",
              "  </thead>\n",
              "  <tbody>\n",
              "    <tr>\n",
              "      <th>count</th>\n",
              "      <td>45020.000000</td>\n",
              "      <td>45020.000000</td>\n",
              "      <td>45020.000000</td>\n",
              "      <td>45020.000000</td>\n",
              "      <td>4.502000e+04</td>\n",
              "      <td>45020.000000</td>\n",
              "      <td>45020.000000</td>\n",
              "      <td>45020.000000</td>\n",
              "      <td>45020.000000</td>\n",
              "      <td>45020.000000</td>\n",
              "      <td>45020.000000</td>\n",
              "      <td>45020.000000</td>\n",
              "    </tr>\n",
              "    <tr>\n",
              "      <th>mean</th>\n",
              "      <td>55884.691892</td>\n",
              "      <td>44.263327</td>\n",
              "      <td>0.306596</td>\n",
              "      <td>0.558532</td>\n",
              "      <td>2.211695e+05</td>\n",
              "      <td>0.599553</td>\n",
              "      <td>0.181843</td>\n",
              "      <td>0.193951</td>\n",
              "      <td>-9.137016</td>\n",
              "      <td>0.093783</td>\n",
              "      <td>119.952961</td>\n",
              "      <td>0.456394</td>\n",
              "    </tr>\n",
              "    <tr>\n",
              "      <th>std</th>\n",
              "      <td>20728.197040</td>\n",
              "      <td>15.553972</td>\n",
              "      <td>0.341391</td>\n",
              "      <td>0.178858</td>\n",
              "      <td>1.276884e+05</td>\n",
              "      <td>0.264510</td>\n",
              "      <td>0.325847</td>\n",
              "      <td>0.161715</td>\n",
              "      <td>6.156400</td>\n",
              "      <td>0.101469</td>\n",
              "      <td>30.641701</td>\n",
              "      <td>0.247161</td>\n",
              "    </tr>\n",
              "    <tr>\n",
              "      <th>min</th>\n",
              "      <td>20002.000000</td>\n",
              "      <td>0.000000</td>\n",
              "      <td>0.000000</td>\n",
              "      <td>0.059600</td>\n",
              "      <td>-1.000000e+00</td>\n",
              "      <td>0.000792</td>\n",
              "      <td>0.000000</td>\n",
              "      <td>0.009670</td>\n",
              "      <td>-47.046000</td>\n",
              "      <td>0.022300</td>\n",
              "      <td>34.347000</td>\n",
              "      <td>0.000000</td>\n",
              "    </tr>\n",
              "    <tr>\n",
              "      <th>25%</th>\n",
              "      <td>38000.750000</td>\n",
              "      <td>34.000000</td>\n",
              "      <td>0.020100</td>\n",
              "      <td>0.442000</td>\n",
              "      <td>1.747230e+05</td>\n",
              "      <td>0.432000</td>\n",
              "      <td>0.000000</td>\n",
              "      <td>0.096900</td>\n",
              "      <td>-10.860000</td>\n",
              "      <td>0.036100</td>\n",
              "      <td>94.941500</td>\n",
              "      <td>0.257000</td>\n",
              "    </tr>\n",
              "    <tr>\n",
              "      <th>50%</th>\n",
              "      <td>55857.500000</td>\n",
              "      <td>45.000000</td>\n",
              "      <td>0.145000</td>\n",
              "      <td>0.568000</td>\n",
              "      <td>2.194385e+05</td>\n",
              "      <td>0.642000</td>\n",
              "      <td>0.000159</td>\n",
              "      <td>0.126000</td>\n",
              "      <td>-7.284000</td>\n",
              "      <td>0.048900</td>\n",
              "      <td>119.879000</td>\n",
              "      <td>0.448000</td>\n",
              "    </tr>\n",
              "    <tr>\n",
              "      <th>75%</th>\n",
              "      <td>73856.500000</td>\n",
              "      <td>56.000000</td>\n",
              "      <td>0.551000</td>\n",
              "      <td>0.687000</td>\n",
              "      <td>2.686400e+05</td>\n",
              "      <td>0.815250</td>\n",
              "      <td>0.154000</td>\n",
              "      <td>0.244000</td>\n",
              "      <td>-5.177000</td>\n",
              "      <td>0.098800</td>\n",
              "      <td>140.471250</td>\n",
              "      <td>0.648000</td>\n",
              "    </tr>\n",
              "    <tr>\n",
              "      <th>max</th>\n",
              "      <td>91759.000000</td>\n",
              "      <td>99.000000</td>\n",
              "      <td>0.996000</td>\n",
              "      <td>0.986000</td>\n",
              "      <td>4.497994e+06</td>\n",
              "      <td>0.999000</td>\n",
              "      <td>0.996000</td>\n",
              "      <td>1.000000</td>\n",
              "      <td>3.744000</td>\n",
              "      <td>0.942000</td>\n",
              "      <td>220.276000</td>\n",
              "      <td>0.992000</td>\n",
              "    </tr>\n",
              "  </tbody>\n",
              "</table>\n",
              "</div>\n",
              "      <button class=\"colab-df-convert\" onclick=\"convertToInteractive('df-15dcf5b1-b855-423a-9e3c-3e89811c9313')\"\n",
              "              title=\"Convert this dataframe to an interactive table.\"\n",
              "              style=\"display:none;\">\n",
              "        \n",
              "  <svg xmlns=\"http://www.w3.org/2000/svg\" height=\"24px\"viewBox=\"0 0 24 24\"\n",
              "       width=\"24px\">\n",
              "    <path d=\"M0 0h24v24H0V0z\" fill=\"none\"/>\n",
              "    <path d=\"M18.56 5.44l.94 2.06.94-2.06 2.06-.94-2.06-.94-.94-2.06-.94 2.06-2.06.94zm-11 1L8.5 8.5l.94-2.06 2.06-.94-2.06-.94L8.5 2.5l-.94 2.06-2.06.94zm10 10l.94 2.06.94-2.06 2.06-.94-2.06-.94-.94-2.06-.94 2.06-2.06.94z\"/><path d=\"M17.41 7.96l-1.37-1.37c-.4-.4-.92-.59-1.43-.59-.52 0-1.04.2-1.43.59L10.3 9.45l-7.72 7.72c-.78.78-.78 2.05 0 2.83L4 21.41c.39.39.9.59 1.41.59.51 0 1.02-.2 1.41-.59l7.78-7.78 2.81-2.81c.8-.78.8-2.07 0-2.86zM5.41 20L4 18.59l7.72-7.72 1.47 1.35L5.41 20z\"/>\n",
              "  </svg>\n",
              "      </button>\n",
              "      \n",
              "  <style>\n",
              "    .colab-df-container {\n",
              "      display:flex;\n",
              "      flex-wrap:wrap;\n",
              "      gap: 12px;\n",
              "    }\n",
              "\n",
              "    .colab-df-convert {\n",
              "      background-color: #E8F0FE;\n",
              "      border: none;\n",
              "      border-radius: 50%;\n",
              "      cursor: pointer;\n",
              "      display: none;\n",
              "      fill: #1967D2;\n",
              "      height: 32px;\n",
              "      padding: 0 0 0 0;\n",
              "      width: 32px;\n",
              "    }\n",
              "\n",
              "    .colab-df-convert:hover {\n",
              "      background-color: #E2EBFA;\n",
              "      box-shadow: 0px 1px 2px rgba(60, 64, 67, 0.3), 0px 1px 3px 1px rgba(60, 64, 67, 0.15);\n",
              "      fill: #174EA6;\n",
              "    }\n",
              "\n",
              "    [theme=dark] .colab-df-convert {\n",
              "      background-color: #3B4455;\n",
              "      fill: #D2E3FC;\n",
              "    }\n",
              "\n",
              "    [theme=dark] .colab-df-convert:hover {\n",
              "      background-color: #434B5C;\n",
              "      box-shadow: 0px 1px 3px 1px rgba(0, 0, 0, 0.15);\n",
              "      filter: drop-shadow(0px 1px 2px rgba(0, 0, 0, 0.3));\n",
              "      fill: #FFFFFF;\n",
              "    }\n",
              "  </style>\n",
              "\n",
              "      <script>\n",
              "        const buttonEl =\n",
              "          document.querySelector('#df-15dcf5b1-b855-423a-9e3c-3e89811c9313 button.colab-df-convert');\n",
              "        buttonEl.style.display =\n",
              "          google.colab.kernel.accessAllowed ? 'block' : 'none';\n",
              "\n",
              "        async function convertToInteractive(key) {\n",
              "          const element = document.querySelector('#df-15dcf5b1-b855-423a-9e3c-3e89811c9313');\n",
              "          const dataTable =\n",
              "            await google.colab.kernel.invokeFunction('convertToInteractive',\n",
              "                                                     [key], {});\n",
              "          if (!dataTable) return;\n",
              "\n",
              "          const docLinkHtml = 'Like what you see? Visit the ' +\n",
              "            '<a target=\"_blank\" href=https://colab.research.google.com/notebooks/data_table.ipynb>data table notebook</a>'\n",
              "            + ' to learn more about interactive tables.';\n",
              "          element.innerHTML = '';\n",
              "          dataTable['output_type'] = 'display_data';\n",
              "          await google.colab.output.renderOutput(dataTable, element);\n",
              "          const docLink = document.createElement('div');\n",
              "          docLink.innerHTML = docLinkHtml;\n",
              "          element.appendChild(docLink);\n",
              "        }\n",
              "      </script>\n",
              "    </div>\n",
              "  </div>\n",
              "  "
            ],
            "text/plain": [
              "        instance_id    popularity  ...         tempo       valence\n",
              "count  45020.000000  45020.000000  ...  45020.000000  45020.000000\n",
              "mean   55884.691892     44.263327  ...    119.952961      0.456394\n",
              "std    20728.197040     15.553972  ...     30.641701      0.247161\n",
              "min    20002.000000      0.000000  ...     34.347000      0.000000\n",
              "25%    38000.750000     34.000000  ...     94.941500      0.257000\n",
              "50%    55857.500000     45.000000  ...    119.879000      0.448000\n",
              "75%    73856.500000     56.000000  ...    140.471250      0.648000\n",
              "max    91759.000000     99.000000  ...    220.276000      0.992000\n",
              "\n",
              "[8 rows x 12 columns]"
            ]
          },
          "metadata": {},
          "execution_count": 7
        }
      ]
    },
    {
      "cell_type": "markdown",
      "source": [
        "Χρησιμοποιώντας της συνάρτηση describe μπορούμε να δούμε διάφορες μετρήσεις."
      ],
      "metadata": {
        "id": "ChE2lpnypfTG"
      }
    },
    {
      "cell_type": "markdown",
      "source": [
        "## Επιλογή χαρακτηριστικών x και στόχων y.  \n",
        "\n",
        "Για λόγους απλότητας επιλέγουμε τα χαρακτηριστικά (inputs) και τις κατηγορίες-στόχους (genres). Καλείστε να διαχωρίσετε τα δεδομένα σε train/test set. Ας θεωρήσουμε το διαχωρισμό 30% - test set, 70% - train set."
      ],
      "metadata": {
        "id": "0EtEH-M9Ikac"
      }
    },
    {
      "cell_type": "code",
      "execution_count": null,
      "metadata": {
        "id": "tHa_Qq0Efqxb"
      },
      "outputs": [],
      "source": [
        "# χαρακτηριστικά\n",
        "inputs = [\"acousticness\", \"danceability\", \"energy\", \"instrumentalness\", \"liveness\", \"speechiness\"]\n",
        "\n",
        "# κατηγορίες-στόχοι\n",
        "output = \"music_genre\"\n",
        "genres = [\"Electronic\", \"Rock\", \"Rap\"]\n",
        "\n",
        "# φιλτράρουμε το DataFrame ώστε να διατηρήσουμε μόνο τις 3 κατηγορίες που μας ενδιαφέρουν.\n",
        "data = data[data[output].isin(genres)]\n",
        "\n",
        "# dictionary to map genre to label id \n",
        "genres_to_id = {genre: i for i, genre in enumerate(genres)}\n",
        "\n",
        "\n",
        "# εδώ πρέπει να διαχωρίσετε τα δεδομένα σε train (70% των δεδομένων)/test set (30% των δεδομένων)\n",
        "# ονομάστε τις μεταβλητές ως εξής:\n",
        "# τα χαρακτηριστικά του train set: x_train\n",
        "# τις κατηγορίες-στόχους του train set: y_train\n",
        "# τα χαρακτηριστικά του test set: x_test\n",
        "# τις κατηγορίες-στόχους του test set: y_test\n",
        "x_test, y_test, x_train, y_train = [], [], [], []\n",
        "##################\n",
        "## Your code below\n",
        "\n",
        "from sklearn.model_selection import train_test_split\n",
        "train, test = train_test_split(data, test_size=0.3)\n",
        "\n",
        "#Μεταρέπω σε dataframes\n",
        "\n",
        "x_train = pd.DataFrame(x_train) \n",
        "y_train = pd.DataFrame(y_train)\n",
        "x_test = pd.DataFrame(x_test)\n",
        "y_test = pd.DataFrame(y_test)\n",
        "\n",
        "#Πρόσθεση Columns\n",
        "\n",
        "x_train = x_train.assign(acousticness = train[\"acousticness\"])\n",
        "x_train = x_train.assign(danceability = train[\"danceability\"])\n",
        "x_train = x_train.assign(energy = train[\"energy\"])\n",
        "x_train = x_train.assign(instrumentalness = train[\"instrumentalness\"])\n",
        "x_train = x_train.assign(liveness = train[\"liveness\"])\n",
        "x_train = x_train.assign(speechiness = train[\"speechiness\"])\n",
        "\n",
        "y_train = y_train.assign(music_genre = train[\"music_genre\"])\n",
        "\n",
        "x_test = x_test.assign(acousticness = test[\"acousticness\"])\n",
        "x_test = x_test.assign(danceability = test[\"danceability\"])\n",
        "x_test = x_test.assign(energy = test[\"energy\"])\n",
        "x_test = x_test.assign(instrumentalness = test[\"instrumentalness\"])\n",
        "x_test = x_test.assign(liveness = test[\"liveness\"])\n",
        "x_test = x_test.assign(speechiness = test[\"speechiness\"])\n",
        "\n",
        "y_test = y_test.assign(music_genre = test[\"music_genre\"])\n",
        "\n",
        "## Your code above\n",
        "##################"
      ]
    },
    {
      "cell_type": "markdown",
      "source": [
        "## Μορφή των δεδομένων  \n",
        "\n",
        "Βεβαιωθείτε ότι τα δεδομένα σας έχουν τη σωστή μορφή εκτυπώνοντας τον αριθμό γραμμών και στηλών για τα x_test, y_test, x_train, y_train."
      ],
      "metadata": {
        "id": "hhte3iixLg8C"
      }
    },
    {
      "cell_type": "code",
      "execution_count": null,
      "metadata": {
        "id": "FhDzmllUZvyp",
        "colab": {
          "base_uri": "https://localhost:8080/"
        },
        "outputId": "ca2618b6-c3b9-4852-c71c-8111881106fa"
      },
      "outputs": [
        {
          "output_type": "stream",
          "name": "stdout",
          "text": [
            "9471\n",
            "4060\n",
            "9471\n",
            "4060\n",
            "6\n",
            "6\n",
            "1\n",
            "1\n",
            "0.6999482669425763\n",
            "0.3000517330574237\n"
          ]
        }
      ],
      "source": [
        "# Shape of x_test, y_test, x_train, y_train\n",
        "\n",
        "##################\n",
        "## Your code below\n",
        "\n",
        "#Για την εμφάνιση των γραμμών \n",
        "print(len(x_train))\n",
        "print(len(x_test))\n",
        "print(len(y_train))\n",
        "print(len(y_test))\n",
        "\n",
        "#Για την εμφάνιση των στήλων\n",
        "print(len(x_train.columns))\n",
        "print(len(x_test.columns))\n",
        "print(len(y_train.columns))\n",
        "print(len(y_test.columns))\n",
        "\n",
        "#Για εξακρίβωση σωστού χωρισμού\n",
        "print(len(x_train)/ len(data))\n",
        "print(len(x_test) / len(data))\n",
        "## Your code above\n",
        "##################"
      ]
    },
    {
      "cell_type": "markdown",
      "source": [
        "Αναφορικά με τις τιμές των χαρακτηριστικών, είναι σημαντικό να γνωρίζουμε το εύρος τους, δηλαδή τη μέγιστη και την ελάχιστη τιμή που λαμβάνει το κάθε χαρακτηριστικό. Εξερευνήστε το εύρος του κάθε χαρακτηριστικού στα train και test set. "
      ],
      "metadata": {
        "id": "QAQ3qN1NMVpf"
      }
    },
    {
      "cell_type": "code",
      "source": [
        "# Range of x_train, x_test columns\n",
        "\n",
        "##################\n",
        "## Your code below\n",
        "#Max Values\n",
        "print(x_train.max())\n",
        "print(x_test.max())\n",
        "\n",
        "\n",
        "#Min Values\n",
        "\n",
        "print(x_train.min())\n",
        "print(x_test.min())\n",
        "## Your code above\n",
        "##################"
      ],
      "metadata": {
        "id": "twobPa_DMxI2",
        "colab": {
          "base_uri": "https://localhost:8080/"
        },
        "outputId": "e5507887-f153-4861-d452-8dbfb343e119"
      },
      "execution_count": null,
      "outputs": [
        {
          "output_type": "stream",
          "name": "stdout",
          "text": [
            "acousticness        0.994\n",
            "danceability        0.977\n",
            "energy              0.999\n",
            "instrumentalness    0.986\n",
            "liveness            0.991\n",
            "speechiness         0.922\n",
            "dtype: float64\n",
            "acousticness        0.981\n",
            "danceability        0.973\n",
            "energy              0.998\n",
            "instrumentalness    0.974\n",
            "liveness            0.983\n",
            "speechiness         0.795\n",
            "dtype: float64\n",
            "acousticness        0.000002\n",
            "danceability        0.064500\n",
            "energy              0.002590\n",
            "instrumentalness    0.000000\n",
            "liveness            0.019400\n",
            "speechiness         0.022800\n",
            "dtype: float64\n",
            "acousticness        0.000001\n",
            "danceability        0.082200\n",
            "energy              0.075300\n",
            "instrumentalness    0.000000\n",
            "liveness            0.017300\n",
            "speechiness         0.022400\n",
            "dtype: float64\n"
          ]
        }
      ]
    },
    {
      "cell_type": "markdown",
      "source": [
        "Από την παραπάνω ανάλυση προκύπτουν κάποια ερωτήματα σημαντικά για τα επόμενα βήματα:\n",
        "- Έχουν τα χαρακτηριστικά μας περίπου το ίδιο εύρος;\n",
        "**Ναι, παρατηρούμε ότι τα χαρακτηριστικά έχουν παρόμοιο εύρος**\n",
        "\n",
        "- Σε πολλές εφαρμογές είναι σημαντικό τα χαρακτηριστικά να βρίσκονται στο εύρος [0, 1]. Ισχύει αυτό στην περίπτωσή μας; \n",
        "**Ναι ισχύει, τα χαρακτηριστικά μας ανήκουν στο σύνολο [0,1)**"
      ],
      "metadata": {
        "id": "jZH_VbsMM_TM"
      }
    },
    {
      "cell_type": "markdown",
      "metadata": {
        "id": "bYMke4uRZ8Ae"
      },
      "source": [
        "# 2o Μέρος: Υλοποίηση KNN\n",
        "Στο δεύτερο μέρος της άσκησης θα υλοποιήσετε τον αλγόριθμο KNN για ταξινόμηση. Υπενθυμίζεται από τις διαφάνειες το πλάνο σχεδιασμού για τον ταξινομητή k κοντινότερων γειτόνων:\n",
        "- Αποθηκεύουμε όλα τα δεδομένα ($Z_{train}$) στη μνήμη\n",
        "  - Τα δεδομένα μπορούν αποθηκευτούν σε έναν πίνακα $n\\times{p}$ με χρήση του numpy\n",
        "- Συγκρίνουμε την είσοδο με τα δεδομένα και βρίσκουμε τα k κοντινότερα ($k<n$) με βάση κάποια απόσταση.\n",
        "  - Όταν μας δίνεται ένα \"φρέσκο\" δείγμα ως διάνυσμα από χαρακτηριστικά $x_i$ χρειαζόμαστε μια συνάρτηση που να υπολογίζει την απόσταση $d(x_i,x_j)$, όπου $x_j$ είναι το διάνυσμα που αντιστοιχεί στα χαρακτηριστικά ενός δείγματος από τα δεδομένα εκπαίδευσης. Θα πειραματιστείτε με την ευκλείδια απόσταση και την απόσταση συνημιτόνου. Στη συνέχεια ταξινομούνται τα δεδομένα εκπαίδευσης ως προς την απόστασή τους από το $x_i$ και επιλέγονται τα $k$ κοντινότερα\n",
        "- Δίνουμε στην έξοδο την κλάση στην οποία ανήκει η πλειοψηφία των k κοντινότερων δεδομένων.\n",
        "\n",
        "Αφού κατασκευαστεί ο ταξινομητής θα αξιολογήσετε την επίδοσή του στα 100 πρώτα δείγματα του $Z_{test}$ για κάποιες τιμές του k που θα επιλέξετε εσείς, ξεκινώντας από $k=1$.\n",
        "\n",
        "Στην πράξη πολύ σπάνια θα χρειαστεί να υλοποιήσετε έναν αλγόριθμο μηχανικής μάθησης από το μηδέν, αφού υπάρχουν έτοιμες υλοποιήσεις, π.χ. σε πακέτα της python, οι οποίες είναι βελτιστοποιημένες και εύχρηστες. Το τελευταίο ζητούμενο  στο 2ο μέρος είναι να επαναλάβετε το παραπάνω πείραμα με την έτοιμη υλοποίηση του KNN που παρέχει η βιβλιοθήκη sklearn. Καλείστε να συγκρίνετε τα αποτελέσματα και τους χρόνους εκτέλεσης.\n",
        "\n",
        " Σας δίνεται η κλάση KNN η οποία αρχικοποιείται με ένα σύνολο από δεδομένα x, ετικέτες y και το k για τον αλγόριθμο. Καλείστε να συμπληρώσετε τον κώδικα που λείπει στις μεθόδους distance, get_knn, και classify.\n",
        "\n",
        "Η απόσταση συνημιτόνου μεταξύ δύο διανυσμάτων u,v ορίζεται ως: $$d(u,v)= 1 - \\frac{u\\cdot{v}}{||u||_2||v||_2}$$"
      ]
    },
    {
      "cell_type": "code",
      "source": [
        "#Μετατροπή σε numpy arrays\n",
        "x_train = x_train.to_numpy()\n",
        "x_test = x_test.to_numpy()\n",
        "y_train = y_train.to_numpy()\n",
        "y_test = y_test.to_numpy()"
      ],
      "metadata": {
        "id": "Pp5tqp_VAtuq"
      },
      "execution_count": null,
      "outputs": []
    },
    {
      "cell_type": "code",
      "execution_count": null,
      "metadata": {
        "id": "EMPfT1jTZ51F"
      },
      "outputs": [],
      "source": [
        "from numpy import linalg\n",
        "class KNN:\n",
        "    def __init__(self, x, y, k, distance = \"euclidean\"):\n",
        "        self.x = x\n",
        "        self.y = y\n",
        "        self.k = k\n",
        "        self.distance = distance\n",
        "        \n",
        "    ## Compute the distance between the two vectors (2 rows of the DataFrame)\n",
        "    # hint: use np.linalg.norm for eucledian\n",
        "    # hint: use equation given above for cosine\n",
        "    def get_distance(self, row1, row2):\n",
        "        global dist\n",
        "        if self.distance=='euclidian':\n",
        "        ##################\n",
        "        ## Your code below\n",
        "          dist = np.linalg.norm(row1 - row2)\n",
        "        ## Your code above\n",
        "        ##################\n",
        "        elif self.distance=='cosine':\n",
        "        ##################\n",
        "        ## Your code below\n",
        "          dist = 1 - ((row1*row2)/(np.linalg.norm(row1, ord=2) * np.linalg.norm(row2, ord=2)))\n",
        "        ## Your code above\n",
        "        ##################\n",
        "        return dist\n",
        "\n",
        "    ## Given a DataFrame row as a vector, returns indexes of k nearest neighbors\n",
        "    def get_knn(self, row):\n",
        "      distances = list()\n",
        "      x = self.x\n",
        "      k = self.k\n",
        "      \n",
        "      ##################\n",
        "      ## Your code below - populate the distances list\n",
        "      # hint: you can use a for loop\n",
        "      for data in x:\n",
        "        dist = self.get_distance(row,data) #βρες την απόσταση για όλους τους κόμβους\n",
        "        distances.append(dist)\n",
        "\n",
        "      ## Your code above\n",
        "      ##################\n",
        "\n",
        "      # Sort distances, and return the indexes of k first elements\n",
        "      ans_indexes = np.argsort(distances)[:k]\n",
        "      return ans_indexes\n",
        "\n",
        "    ## Given a DataFrame row as a vector, classify it according to KNN\n",
        "    # hint: we have a list of k labels and want to return the most common one\n",
        "    def classify(self, row):\n",
        "      y = self.y\n",
        "      nn_labels = [y[i] for i in self.get_knn(row)]\n",
        "\n",
        "      ##################\n",
        "      ## Your code below\n",
        "      nn_labels = np.array(nn_labels)\n",
        "      labels, counts = np.unique(nn_labels, return_counts=True)  #find the unique labels and the counts of them\n",
        "      count_sort_ind = np.argsort(-counts)  #for the counts by index\n",
        "      prediction = labels[count_sort_ind][0] #get the prediction        \n",
        "      ## Your code above\n",
        "      ###################\n",
        "      return prediction\n",
        "\n",
        "\n",
        "knn = KNN(x_train, y_train, k=5, distance='euclidian')"
      ]
    },
    {
      "cell_type": "markdown",
      "metadata": {
        "id": "B8-o5tn3aH0-"
      },
      "source": [
        "Τώρα που είναι έτοιμος ο ταξινομητής ας δούμε τι προβλέπει σε μεμονωμένα δείγματα."
      ]
    },
    {
      "cell_type": "markdown",
      "metadata": {
        "id": "XCiEi1UUaLzE"
      },
      "source": [
        "## Αξιολόγηση του KNN"
      ]
    },
    {
      "cell_type": "code",
      "execution_count": null,
      "metadata": {
        "id": "tKw0oa1jaJei"
      },
      "outputs": [],
      "source": [
        "preds = [knn.classify(x_test[i]) for i in range(100)]\n",
        "labels = [y_test[i] for i in range(100)]"
      ]
    },
    {
      "cell_type": "code",
      "execution_count": null,
      "metadata": {
        "id": "yNVygiKCaNag",
        "colab": {
          "base_uri": "https://localhost:8080/"
        },
        "outputId": "20a7a23d-2f22-4432-d52d-5ee45cd817f0"
      },
      "outputs": [
        {
          "output_type": "stream",
          "name": "stdout",
          "text": [
            "precision: 0.6978235842333206\n",
            "recall: 0.700595238095238\n",
            "f1: 0.6985645933014354\n",
            "accuracy: 0.7\n",
            "Confusion matrix: \n",
            "[[28  5  7]\n",
            " [ 3 20  5]\n",
            " [ 6  4 22]]\n"
          ]
        }
      ],
      "source": [
        "eval = Evaluate(labels, preds)\n",
        "eval.get_evaluation_report()"
      ]
    },
    {
      "cell_type": "markdown",
      "metadata": {
        "id": "V7LP247HaU6m"
      },
      "source": [
        "## Έτοιμος ΚΝΝ classifier\n",
        "\n",
        "Όπως και με τους περισσότερους αλγορίθμους μηχανικής μάθησης, υπάρχουν έτοιμες βελτιστοποιημένες υλοποιήσεις. Παρακάτω δείχνουμε ένα παράδειγμα χρήσης του ταξινομητή ΚΝΝ που παρέχει η βιβλιοθήκη sklearn ([documentation](https://scikit-learn.org/stable/modules/generated/sklearn.neighbors.KNeighborsClassifier.html))."
      ]
    },
    {
      "cell_type": "code",
      "source": [
        "#make 1d array\n",
        "y_train = y_train.ravel()\n",
        "y_test = y_test.ravel()"
      ],
      "metadata": {
        "id": "vys1J2EABUgn"
      },
      "execution_count": null,
      "outputs": []
    },
    {
      "cell_type": "code",
      "execution_count": null,
      "metadata": {
        "id": "Os0WCL-QaOnr",
        "colab": {
          "base_uri": "https://localhost:8080/"
        },
        "outputId": "8a101dae-3dcb-4ff5-ff78-8709dc5442cd"
      },
      "outputs": [
        {
          "output_type": "stream",
          "name": "stdout",
          "text": [
            "precision: 0.6978235842333206\n",
            "recall: 0.700595238095238\n",
            "f1: 0.6985645933014354\n",
            "accuracy: 0.7\n",
            "Confusion matrix: \n",
            "[[28  5  7]\n",
            " [ 3 20  5]\n",
            " [ 6  4 22]]\n"
          ]
        }
      ],
      "source": [
        "from sklearn.neighbors import KNeighborsClassifier\n",
        "\n",
        "k = 5\n",
        "knc = KNeighborsClassifier(n_neighbors = k)\n",
        "knc.fit(x_train, y_train)\n",
        "y_pred = knc.predict(x_test[:100])\n",
        "\n",
        "eval = Evaluate(y_test[:100], y_pred)\n",
        "eval.get_evaluation_report()"
      ]
    },
    {
      "cell_type": "markdown",
      "metadata": {
        "id": "RcUBX2XMaZUd"
      },
      "source": [
        "## Σύγκριση υλοποιήσεων\n",
        "\n",
        "Στα παρακάτω κελιά πειραματιστείτε με τις δύο υλοποιήσεις (τη δική σας και την έτοιμη). Βεβαιωθείτε πως προκύπτουν τα ίδια αποτελέσματα για διάφορες τιμές του k (για ευκλείδια απόσταση) και μετρήστε τους χρόνους εκτέλεσης."
      ]
    },
    {
      "cell_type": "markdown",
      "metadata": {
        "id": "IOmj0ryqW9nY"
      },
      "source": [
        "Για τους χρόνους εκτέλεσης για k = 5 τρέχουμε τα 3 παρακάτω κελιά:"
      ]
    },
    {
      "cell_type": "code",
      "execution_count": null,
      "metadata": {
        "id": "8Yz_Y_cpaWor",
        "colab": {
          "base_uri": "https://localhost:8080/"
        },
        "outputId": "c6cbc86d-5770-4274-acd6-2744b0a323a9"
      },
      "outputs": [
        {
          "output_type": "stream",
          "name": "stdout",
          "text": [
            "CPU times: user 610 ms, sys: 0 ns, total: 610 ms\n",
            "Wall time: 617 ms\n"
          ]
        }
      ],
      "source": [
        "%%time\n",
        "knn = KNN(x_train, y_train, k = 5, distance = 'euclidean')\n",
        "preds = [knn.classify(x_test[i]) for i in range(100)]"
      ]
    },
    {
      "cell_type": "code",
      "execution_count": null,
      "metadata": {
        "id": "683epgE6W9nY",
        "colab": {
          "base_uri": "https://localhost:8080/"
        },
        "outputId": "1dfc661a-ff2d-4ec2-b728-a3fc576d3685"
      },
      "outputs": [
        {
          "output_type": "stream",
          "name": "stdout",
          "text": [
            "CPU times: user 962 ms, sys: 2.24 ms, total: 964 ms\n",
            "Wall time: 975 ms\n"
          ]
        }
      ],
      "source": [
        "%%time\n",
        "knn = KNN(x_train, y_train, k = 5, distance = 'cosine')\n",
        "preds = [knn.classify(x_test[i]) for i in range(5)]"
      ]
    },
    {
      "cell_type": "code",
      "execution_count": null,
      "metadata": {
        "id": "77s6o3ZkabCY",
        "colab": {
          "base_uri": "https://localhost:8080/"
        },
        "outputId": "b5d65285-aa30-418e-93d5-5e4ce0d7d610"
      },
      "outputs": [
        {
          "output_type": "stream",
          "name": "stdout",
          "text": [
            "CPU times: user 31 ms, sys: 0 ns, total: 31 ms\n",
            "Wall time: 33.2 ms\n"
          ]
        }
      ],
      "source": [
        "%%time\n",
        "knc = KNeighborsClassifier(n_neighbors = 5)\n",
        "knc.fit(x_train, y_train)\n",
        "y_pred = knc.predict(x_test[:100])"
      ]
    },
    {
      "cell_type": "markdown",
      "metadata": {
        "id": "A6rb5SKKW9nY"
      },
      "source": [
        "Για τους χρόνους εκτέλεσης για k = 50 τρέχουμε τα 3 παρακάτω κελιά:"
      ]
    },
    {
      "cell_type": "code",
      "execution_count": null,
      "metadata": {
        "id": "YvDbD3u7W9nZ",
        "colab": {
          "base_uri": "https://localhost:8080/"
        },
        "outputId": "81088178-1e50-4e27-8e28-00abbcb82264"
      },
      "outputs": [
        {
          "output_type": "stream",
          "name": "stdout",
          "text": [
            "CPU times: user 917 ms, sys: 7.77 ms, total: 925 ms\n",
            "Wall time: 930 ms\n"
          ]
        }
      ],
      "source": [
        "%%time\n",
        "knn = KNN(x_train, y_train, k = 50, distance = 'euclidean')\n",
        "preds = [knn.classify(x_test[i]) for i in range(100)]"
      ]
    },
    {
      "cell_type": "code",
      "execution_count": null,
      "metadata": {
        "id": "4YpuwMD0W9nZ",
        "colab": {
          "base_uri": "https://localhost:8080/"
        },
        "outputId": "6f4596c4-864f-4ac3-e70c-19799e4e0a72"
      },
      "outputs": [
        {
          "output_type": "stream",
          "name": "stdout",
          "text": [
            "CPU times: user 947 ms, sys: 1.15 ms, total: 948 ms\n",
            "Wall time: 949 ms\n"
          ]
        }
      ],
      "source": [
        "%%time\n",
        "knn = KNN(x_train, y_train, k = 50, distance = 'cosine')\n",
        "preds = [knn.classify(x_test[i]) for i in range(5)]"
      ]
    },
    {
      "cell_type": "code",
      "execution_count": null,
      "metadata": {
        "id": "3h4GOLcNW9nZ",
        "colab": {
          "base_uri": "https://localhost:8080/"
        },
        "outputId": "15333a44-4fa0-4f74-bd86-a4a721f19173"
      },
      "outputs": [
        {
          "output_type": "stream",
          "name": "stdout",
          "text": [
            "CPU times: user 28.3 ms, sys: 943 µs, total: 29.2 ms\n",
            "Wall time: 29 ms\n"
          ]
        }
      ],
      "source": [
        "%%time\n",
        "knc = KNeighborsClassifier(n_neighbors = 50)\n",
        "knc.fit(x_train, y_train)\n",
        "y_pred = knc.predict(x_test[:100])"
      ]
    },
    {
      "cell_type": "code",
      "source": [
        "%%time\n",
        "knn = KNN(x_train, y_train, k = 500, distance = 'euclidean')\n",
        "preds = [knn.classify(x_test[i]) for i in range(100)]"
      ],
      "metadata": {
        "colab": {
          "base_uri": "https://localhost:8080/"
        },
        "id": "lSDVZNpduLRz",
        "outputId": "bca0cdb5-2744-48b9-b85a-4ea8cfc9d8e8"
      },
      "execution_count": null,
      "outputs": [
        {
          "output_type": "stream",
          "name": "stdout",
          "text": [
            "CPU times: user 1.07 s, sys: 10.8 ms, total: 1.08 s\n",
            "Wall time: 1.08 s\n"
          ]
        }
      ]
    },
    {
      "cell_type": "code",
      "source": [
        "%%time\n",
        "knn = KNN(x_train, y_train, k = 500, distance = 'cosine')\n",
        "preds = [knn.classify(x_test[i]) for i in range(5)]"
      ],
      "metadata": {
        "colab": {
          "base_uri": "https://localhost:8080/"
        },
        "id": "FdKy1ziYuLFe",
        "outputId": "ac4d4806-2f0f-4b52-9e93-1c4150e5e20a"
      },
      "execution_count": null,
      "outputs": [
        {
          "output_type": "stream",
          "name": "stdout",
          "text": [
            "CPU times: user 974 ms, sys: 8.71 ms, total: 982 ms\n",
            "Wall time: 977 ms\n"
          ]
        }
      ]
    },
    {
      "cell_type": "code",
      "source": [
        "%%time\n",
        "knc = KNeighborsClassifier(n_neighbors = 50)\n",
        "knc.fit(x_train, y_train)\n",
        "y_pred = knc.predict(x_test[:100])"
      ],
      "metadata": {
        "colab": {
          "base_uri": "https://localhost:8080/"
        },
        "id": "LuPXo26zuK1f",
        "outputId": "3263421d-3bb6-4879-fb42-0659805e0656"
      },
      "execution_count": null,
      "outputs": [
        {
          "output_type": "stream",
          "name": "stdout",
          "text": [
            "CPU times: user 31.2 ms, sys: 0 ns, total: 31.2 ms\n",
            "Wall time: 31.2 ms\n"
          ]
        }
      ]
    },
    {
      "cell_type": "markdown",
      "metadata": {
        "id": "bc9ySKoRaek-"
      },
      "source": [
        "## Σχολιασμός\n",
        "Παρατηρούμε ότι ενώ οι μετρικές του δικού μας knn είναι παρόμοιος με τον έτοιμο,έχουν εμφανή διαφορά στον χρόνο εκτέλεσης. Αυτό συμβαίνει λόγω των βελτιστοποιήσεων που έχει υποστεί ο έτοιμος αλγόριθμος της sklearn. Επίσης χρησιμοποιώντας για απόσταση το cosine ο αλγόριθμος είναι σημαντικά πιο αργός "
      ]
    },
    {
      "cell_type": "markdown",
      "metadata": {
        "id": "Xe17UwwLag5Y"
      },
      "source": [
        "# 3ο Μέρος: Naive Bayes\n",
        "Στο τρίτο μέρος της άσκησης θα υλοποιήσετε τον αλγόριθμο Naive Bayes. Ας θυμηθούμε από τις διαφάνειες:\n",
        "\n",
        "**Υποθέσεις:**\n",
        "- Τα χαρακτηριστικά είναι boolean αντί για συνεχή, δηλαδή παίρνουν δύο τιμές 0 ή 1. Συνεπώς, χρειάζεται να τροποποιήσουμε τα χαρακτηριστικά του dataset μας.\n",
        "  - Για το συγκεκριμένο πρόβλημα μπορούμε να 'σπάσουμε' τις τιμές κάθε χαρακτηριστικού σε N διαφορετικά bins. Για παράδειγμα, για ένα χαρακτηριστικό που οι τιμές του κυμαίνονται στο [0, 1], για Ν=5, θα έχουμε τα ακόλουθα bins: [0, 0.2), [0.2, 0.4), [0.4, 0.6), [0.6, 0.8), [0.8, 1]. (Γι αυτό το λόγο στα προηγούμενα βήματα αναφέραμε ότι είναι σημαντικό να έχουμε τα χαρακτηριστικά μας στο [0, 1]!)\n",
        "  \n",
        "- Η πιθανότητα ένα στοιχείο με χαρακτηριστικά x να ανήκει στην κλάση i δίνεται από τον τύπο:\n",
        "$$p(i|x)=\\frac{p(i)\\cdot{\\prod_{k=1}^p}p(x^{(k)}|i)}{\\sum_{j=1}^pp(x^{(k)}|j)}$$\n",
        "- Για να ταξινομήσουμε ένα διάνυσμα χαρακτηριστικών x σε μια κλάση i επιλέγουμε την κλάση που μεγιστοποιεί την παραπάνω πιθανότητα\n",
        "  - Μπορούμε για τη σύγκριση να αγνοήσουμε τον παρονομαστή, αφού για όλες τις κλάσεις θα είναι ίδιος"
      ]
    },
    {
      "cell_type": "code",
      "source": [
        "#Μετατροπή τιμών στις index τιμές που παράγονται από το dictionary\n",
        "for i in range(len(y_train)):\n",
        "  if y_train[i] == 'Electronic':\n",
        "    y_train[i] = 0\n",
        "  elif y_train[i] == 'Rock':\n",
        "    y_train[i] = 1\n",
        "  elif y_train[i] == 'Rap':\n",
        "    y_train[i] = 2\n",
        "\n",
        "for i in range(len(y_test)):\n",
        "  if y_test[i] == 'Electronic':\n",
        "    y_test[i] = 0\n",
        "  elif y_test[i] == 'Rock':\n",
        "    y_test[i] = 1\n",
        "  elif y_test[i] == 'Rap':\n",
        "    y_test[i] = 2"
      ],
      "metadata": {
        "id": "fWaSo9U6_yCJ"
      },
      "execution_count": null,
      "outputs": []
    },
    {
      "cell_type": "code",
      "source": [
        "#Μετατροπή σε integer\n",
        "y_train = y_train.astype('int64')\n",
        "y_test = y_test.astype('int64')"
      ],
      "metadata": {
        "id": "RcF716e1_zf_"
      },
      "execution_count": null,
      "outputs": []
    },
    {
      "cell_type": "code",
      "execution_count": null,
      "metadata": {
        "id": "GNbBhsg2ach8"
      },
      "outputs": [],
      "source": [
        "# κάνουμε κάθε μεταβλήτη του συνόλου εκπαίδευσης διακρίτη σε σε διαστήματα \n",
        "\n",
        "def discretize(x, num_of_classes = 5):  \n",
        "    x_r = []\n",
        "    for row in x:                               #Δίορθωση x_train -> x\n",
        "        discrete = []\n",
        "        for i, feature in enumerate(row):\n",
        "            discrete_feature = [0] * num_of_classes\n",
        "            for j, v in enumerate(np.linspace(0, 1, num_of_classes + 1)):\n",
        "                if float(feature) < v:\n",
        "                    break\n",
        "            discrete_feature[j-1] = 1\n",
        "            discrete += discrete_feature\n",
        "        x_r.append(discrete)\n",
        "    return np.array(x_r)\n",
        "\n",
        "x_train_r = discretize(x_train)\n",
        "x_test_r = discretize(x_test)"
      ]
    },
    {
      "cell_type": "markdown",
      "metadata": {
        "id": "lFORd6XJakZl"
      },
      "source": [
        "Παρακάτω σας δίνεται η κλάση NaiveBayes που υλοποιεί τον αλγόριθμο. Καλείστε αρχικά να υπολογίσετε την πιθανότητα $p(x^{(k)}|i)$ για διάνυσμα χαρακτηριστκών $x$ και κατηγορία $i$ στη μέθοδο compute_probabilities. Στη συνέχεια θα υπολογίσετε την πιθανότητα $p(i|x)$ στη μέθοδο predict."
      ]
    },
    {
      "cell_type": "code",
      "execution_count": null,
      "metadata": {
        "id": "ufKo5f5yaiqH"
      },
      "outputs": [],
      "source": [
        "class NaiveBayes:\n",
        "    def __init__(self, x, y):\n",
        "        self.x = x\n",
        "        self.y = y\n",
        "        ## pC is a vector with the probability of each class\n",
        "        self.pC = np.zeros((len(genres),))\n",
        "        ## pxC is an array with all probabilities p(xi|C)\n",
        "        self.pxC = np.zeros((x.shape[-1], len(genres)))\n",
        "        ## Compute the probabilities\n",
        "        self.compute_probabilities()\n",
        "\n",
        "    def compute_probabilities(self):\n",
        "        ## Compute p(C) for each class\n",
        "        for label in self.y: \n",
        "          self.pC[label] += 1\n",
        "        self.pC = self.pC / self.y.shape[0]\n",
        "\n",
        "        ## Compute p(xi|C) for each feature xi and class C\n",
        "        # hint: you can use one or more for loops\n",
        "        ###################\n",
        "        ## Your code below\n",
        "        denom = np.bincount(self.y)\n",
        "        for j ,i in zip(self.x,self.y):\n",
        "          self.pxC[:,i] += j\n",
        "        self.pxC[:] = np.divide(self.pxC[:],denom)\n",
        "\n",
        "        ## Your code above\n",
        "        ##################\n",
        "\n",
        "    def predict(self, x):\n",
        "        ## ~Probability of x belonging to each class\n",
        "        ## (not actucal probability since we ignore denominator)\n",
        "        pcX = np.ones((len(genres),))\n",
        "        xsize = self.x.shape[-1]\n",
        "        for i in range(len(genres)):\n",
        "          # hint: We have probabilities p({x_j=1}|i) in self.pxC\n",
        "          # We also need p({x_j=0}|i) for computing p(x|i)\n",
        "          #################\n",
        "          ## Your code below\n",
        "          product = 1\n",
        "          for bit in range(len(x)):\n",
        "            if (x[bit] == 1):\n",
        "              product = product*self.pxC[bit][i] \n",
        "            else:\n",
        "              product = product*(1-self.pxC[bit][i])\n",
        "          pcX[i] = product * self.pC[i]\n",
        "\n",
        "          ## Your code above\n",
        "          ##################\n",
        "        return np.argmax(pcX)"
      ]
    },
    {
      "cell_type": "markdown",
      "metadata": {
        "id": "cO9h_Q8bbAgF"
      },
      "source": [
        "## Αξιολόγηση του Naive Bayes"
      ]
    },
    {
      "cell_type": "code",
      "execution_count": null,
      "metadata": {
        "id": "2PzuaP48amDv",
        "colab": {
          "base_uri": "https://localhost:8080/"
        },
        "outputId": "f3e8ba0b-f103-4afb-f474-7a839d95b344"
      },
      "outputs": [
        {
          "output_type": "stream",
          "name": "stdout",
          "text": [
            "precision: 0.6905698005698006\n",
            "recall: 0.669345238095238\n",
            "f1: 0.6603926071002454\n",
            "accuracy: 0.66\n",
            "Confusion matrix: \n",
            "[[23  7 10]\n",
            " [ 0 23  9]\n",
            " [ 2  6 20]]\n"
          ]
        }
      ],
      "source": [
        "nb = NaiveBayes(x_train_r, y_train)\n",
        "preds = [nb.predict(i) for i in x_test_r[:100]]\n",
        "eval = Evaluate(y_test[:100], preds)\n",
        "eval.get_evaluation_report()"
      ]
    },
    {
      "cell_type": "markdown",
      "metadata": {
        "id": "xMUHg-dubFa2"
      },
      "source": [
        "## Έτοιμος Naive Bayes\n",
        "\n",
        "Όπως με τους περισσότερους αλγορίθμους μηχανικής μάθησης, υπάρχουν έτοιμες βελτιστοποιημένες υλοποιήσεις για τον Naive Bayes. Παρακάτω ο Gaussian Naive Bayes από το Sklearn. Σε αντίθεση με τη δική μας υλοποίηση, ο συγκεκριμένος δουλεύει και με συνεχή δεδομένα, αφού πρώτα κάνει την υπόθεση πως κάθε χαρακτηριστικό ακολουθεί κανονική κατανομή ([documentation](https://scikit-learn.org/stable/modules/generated/sklearn.naive_bayes.GaussianNB.html))."
      ]
    },
    {
      "cell_type": "code",
      "execution_count": null,
      "metadata": {
        "id": "qNir3SOIW9nb",
        "colab": {
          "base_uri": "https://localhost:8080/"
        },
        "outputId": "5160d57a-7099-4974-8cad-b84e638fb352"
      },
      "outputs": [
        {
          "output_type": "stream",
          "name": "stdout",
          "text": [
            "precision: 0.7592592592592592\n",
            "recall: 0.736904761904762\n",
            "f1: 0.7179780587038652\n",
            "accuracy: 0.72\n",
            "Confusion matrix: \n",
            "[[22  8 10]\n",
            " [ 0 28  4]\n",
            " [ 0  6 22]]\n"
          ]
        }
      ],
      "source": [
        "from sklearn.naive_bayes import GaussianNB\n",
        "\n",
        "gnb = GaussianNB()\n",
        "y_pred = gnb.fit(x_train, y_train).predict(x_test[:100])\n",
        "\n",
        "eval = Evaluate(y_test[:100], y_pred)\n",
        "eval.get_evaluation_report()"
      ]
    },
    {
      "cell_type": "markdown",
      "metadata": {
        "id": "KaecLreybI-3"
      },
      "source": [
        "## Σύγκριση υλοποιήσεων\n",
        "\n",
        "Όμοια με πριν θα συγκρίνετε τα αποτελέσματα και τους χρόνους εκτέλεσης για τις δύο υλοποιήσεις. Σχολιάστε την επίδοση σε κάθε περίπτωση. Ποιες από τις παραδοχές που κάναμε δεν ισχύουν;"
      ]
    },
    {
      "cell_type": "code",
      "execution_count": null,
      "metadata": {
        "id": "Lz-k1DL-bG9v",
        "colab": {
          "base_uri": "https://localhost:8080/"
        },
        "outputId": "12f13346-e4c0-434c-fc47-69e35959d1f3"
      },
      "outputs": [
        {
          "output_type": "stream",
          "name": "stdout",
          "text": [
            "CPU times: user 50.5 ms, sys: 0 ns, total: 50.5 ms\n",
            "Wall time: 52.5 ms\n"
          ]
        }
      ],
      "source": [
        "%%time\n",
        "nb = NaiveBayes(x_train_r,y_train)\n",
        "preds = [ nb.predict(i) for i in x_test_r[:100]]"
      ]
    },
    {
      "cell_type": "code",
      "execution_count": null,
      "metadata": {
        "id": "neUU0A-AW9nc",
        "colab": {
          "base_uri": "https://localhost:8080/"
        },
        "outputId": "cf3bb039-fe5f-4cc1-a554-086ff6bdfe21"
      },
      "outputs": [
        {
          "output_type": "stream",
          "name": "stdout",
          "text": [
            "CPU times: user 4.89 ms, sys: 0 ns, total: 4.89 ms\n",
            "Wall time: 4.9 ms\n"
          ]
        }
      ],
      "source": [
        "%%time\n",
        "gnb = GaussianNB()\n",
        "y_pred = gnb.fit(x_train, y_train).predict(x_test[:100])"
      ]
    },
    {
      "cell_type": "markdown",
      "metadata": {
        "id": "SAmP4BrCbOB9"
      },
      "source": [
        "## Σχολιασμός\n",
        "\n",
        "Παρατηρούμε πως πάλι ο έτοιμος αλγόριθμος είναι πιο γρήγορος από τον δικό μας.\n",
        "\n",
        "Όσον αφορά τις μετρικές μας βλέπουμε ότι ο αλγόριθμός μας παραγεί λίγο χειρότερα αποτελέσματα απο αυτόν της sklearn. Ανεβάζοντας το μέγεθος τον δειγμάτων παρατηρούμε ότι η απόδοση του sklearn πέφτει ενώ του δικού μας αλγόριθμου βελτιωνέται.Αυτό συμβαίνει διότι εμείς έχουμε κάνει discretize ενώ ο έτοιμος κάνει την παραδοχή ότι τα δεδομένα ακολουθούν κανονική κατανομή"
      ]
    },
    {
      "cell_type": "markdown",
      "metadata": {
        "id": "8B3FYDfnW9nd"
      },
      "source": [
        "# 4ο Μέρος: Multi-Layer Perceptron \n",
        "\n",
        "Στο τέταρτο μέρος της άσκησης θα κατασκευάσετε ένα πολυεπίπεδο νευρωνικό δίκτυο. Ο ταξινομητής αυτός θα εκπαιδευτεί στο να ταξινομεί τα δείγματα των μουσικών κομματιών σε μια από τις 3 διαφορετικές κλάσεις που επιλέχθηκαν (Electronic, Rock, Rap). Αρχικά, θα υλοποιήσετε το μοντέλο αυτό χρησιμοποιώντας αποκλειστικά την βιβλιοθήκη numpy ενώ στην συνέχεια θα χρησιμοποιήσετε μια έτοιμη κλάση για την κατασκευή του ίδιου μοντέλου. \n",
        "\n",
        "Ας θυμηθούμε από τις διαφάνειες: \n",
        "\n",
        "Κάθε MLP αποτελείται από επίπεδα όπου το κάθε ένα από αυτά χωρίζεται στα παρακάτω μέρη: \n",
        "\n",
        "$$ z(x) = w^Τx + b $$ \n",
        "$$ f(x) = a(z(x))$$ \n",
        "\n",
        "όπου $w$, $b$ είναι τα βάρη του επιπέδου.  Η έξοδος z(x) είναι η απόκριση κάθε νευρώνα πριν την συνάρτηση ενεργοποίησης ενώ η f(x) μετά.  Κάθε επίπεδο συνδέεται με ένα επόμενο του οποίου η είσοδός του αποτελεί την έξοδο (με την συνάρτηση ενεργοποίησης) του προηγούμενου. \n",
        "\n",
        "Στο μέρος αυτό καλείστε να συμπληρώσετε ορισμένα σημεία κώδικα ώστε να επιτυγχάνεται αυτή η λειτουργικότητα. Στην συνέχεια θα υλοποιήσετε το ίδιο ακριβώς μοντέλο χρησιμοποιώντας όμως μια έτοιμη βιβλιοθήκη και θα συγκρίνετε τα αποτελέσματά τους (χρόνο, σκορ κ.α.). \n",
        "\n",
        "Σε αυτό το σημείο της άσκησης θα επιλύσετε το παραπάνω πρόβλημα κατασκευάζοντας ένα πολυεπίπεδο νευρωνικό δίκτυο. Αρχικά θα υλοποιήσετε το νευρωνικό χωρίς να χρησιμοποιήσετε κάποια έτοιμη κλάση κάποιας βιβλιοθήκης (όπως scikit-learn, keras), ενώ στην συνέχεια θα κατασκευάσετε το ίδιο σύστημα με την χρήση της βιβλιοθήκης scikit-learn. \n",
        "\n",
        "Στο παρακάτω κελί κώδικα σάς δίνεται η βασική δομή του επιπέδου ενός πολυεπίπεδου νευρωνικού δικτύου. Η παρακάτω κλάση δεν υλοποιεί κάποιο πραγματικό επίπεδο (όπως Dense) αλλά αυτή χρησιμοποιείται για την παρουσίαση των λειτουργιών κάθε επιπέδου.\n",
        "\n",
        "Ουσιαστικά κάθε επίπεδο ενός νευρωνικού δικτύου πρέπει να είναι σε θέση να κάνει: \n",
        "\n",
        "\n",
        "1.   Για μια είσοδο να υπολογίζει την έξοδο κάθε νευρώνα. Αυτό επιτυγχάνεται μέσω της μεθόδου forward η όποια δέχεται ως όρισμα μια είσοδο  και επιστρέφει έναν πίνακα με τις εξόδους κάθε νευρώνα του επιπέδου. \n",
        "\n",
        "2.   Να υπολογίζει τις μεταβολές οι όποιες πρέπει να γίνουν στα βάρη κάθε επιπέδου, ανάλογα με το πόσο καλά-κοντινά ήταν τα αποτελέσματα του επιπέδου στα πραγματικά. Η λειτουργία αυτή θα μας βοηθήσει στην ανανέωση των βαρών του δικτύου και συνεπώς στη σωστή εκπαίδευσή του. Η λειτουργικότητα αυτή επιτυγχάνεται μέσω της μεθόδου backward. \n",
        "\n",
        "  \n",
        "\n",
        "Η λειτουργικότητα, συνεπώς, κάθε επιπέδου καθορίζεται από την συνάρτηση που υλοποιείται στην μέθοδο forward. Ένα instance της παρακάτω κλάσης, συνεπώς, επιστρέφει ως έξοδο την είσοδο κάθε νευρώνα (ταυτοτική συνάρτηση) όποτε δεν προσφέρει κάποια υψηλή λειτουργικότητα. Στην παρακάτω κλάση δεν έχετε να προσθέσετε κάτι, απλά να μελετήσετε και να καταλάβετε την δομή που πρέπει να έχει ένα επίπεδο. "
      ]
    },
    {
      "cell_type": "code",
      "execution_count": null,
      "metadata": {
        "id": "jgx1VIMmbMQP"
      },
      "outputs": [],
      "source": [
        "class Layer:\n",
        "    def __init__(self):\n",
        "        \"\"\"Here we can initialize layer parameters (if any) and auxiliary stuff.\"\"\"\n",
        "        # A dummy layer does nothing\n",
        "        pass\n",
        "    \n",
        "    def forward(self, input):\n",
        "        \"\"\"\n",
        "        Takes input data of shape [batch, input_units], returns output data [batch, output_units]\n",
        "        \"\"\"\n",
        "        # A dummy layer just returns whatever it gets as input.\n",
        "        return input\n",
        "\n",
        "    def backward(self, input, grad_output):\n",
        "        # The gradient of a dummy layer is precisely grad_output, but we'll write it more explicitly\n",
        "        num_units = input.shape[1]\n",
        "        \n",
        "        d_layer_d_input = np.eye(num_units)\n",
        "        \n",
        "        return np.dot(grad_output, d_layer_d_input) # chain rule"
      ]
    },
    {
      "cell_type": "markdown",
      "metadata": {
        "id": "r1iQCroAbV-F"
      },
      "source": [
        "Στο σημείο αυτό αξίζει να αναφερθεί ότι για την σωστή εκπαίδευση του δικτύου (σε πρακτικό επίπεδο) πρέπει να διαχωριστεί η έξοδος κάθε νευρώνα πριν και μετά την συνάρτηση ενεργοποίησης. Έτσι η παραπάνω μέθοδος forward της κλάσης layer πρέπει να υπολογίζει την έξοδο του επιπέδου χωρίς την συνάρτηση ενεργοποίησης και κάποια άλλη κλάση να υπολογίζει το αποτέλεσμα με αυτή.  \n",
        "\n",
        "  \n",
        "\n",
        "Έκτος όμως από την εκπαίδευση του δικτύου, ο διαχωρισμός αυτός μας βοηθά σημαντικά και κατά την φάση σχεδιασμού της  αρχιτεκτονικής μιας και μας δίνει την δυνατότητα να αλλάζουμε την συνάρτηση ενεργοποίησης χωρίς κάθε φόρα να πρέπει να αλλάξουμε ολόκληρη την κλάση layer. Για τους παραπάνω λόγους θα χειριζόμαστε την συνάρτηση ενεργοποίησης σαν ένα ξεχωριστό επίπεδο με τις δικές της μεθόδους: forward, backward.  \n",
        "\n",
        "  \n",
        "\n",
        "Παρακάτω παρουσιάζεται η κλάση η όποια υλοποιεί την λειτουργικότητα της συνάρτησης ενεργοποίησης [ReLU](https://en.wikipedia.org/wiki/Rectifier_(neural_networks)).  \n",
        "\n",
        "  \n",
        "\n",
        "Με την ίδια λογική μπορούμε να υλοποιήσουμε οποιαδήποτε άλλη συνάρτηση ενεργοποίησης θέλουμε π.χ. sigmoid, tanh κ.ο.κ. και επιπλέον μπορούμε να τις εναλλάσσουμε μεταξύ επιπέδων χωρίς δυσκολία. "
      ]
    },
    {
      "cell_type": "code",
      "execution_count": null,
      "metadata": {
        "id": "6P33228VbYIf"
      },
      "outputs": [],
      "source": [
        "class ReLU(Layer):\n",
        "    def __init__(self):\n",
        "        \"\"\"ReLU layer simply applies elementwise rectified linear unit to all inputs\"\"\"\n",
        "        pass\n",
        "    \n",
        "    def forward(self, input):\n",
        "        \"\"\"Apply elementwise ReLU to [batch, input_units] matrix\"\"\"\n",
        "        relu_forward = np.maximum(0, input)\n",
        "        return relu_forward\n",
        "    \n",
        "    def backward(self, input, grad_output):\n",
        "        \"\"\"Compute gradient of loss w.r.t. ReLU input\"\"\"\n",
        "        relu_grad = input > 0\n",
        "        return grad_output*relu_grad"
      ]
    },
    {
      "cell_type": "markdown",
      "metadata": {
        "id": "Rrrub_76ba19"
      },
      "source": [
        "Η κλάση Dense υλοποιεί ένα επίπεδο dense όπου η έξοδος κάθε νευρώνα (χωρίς τη  συνάρτηση ενεργοποίησης) υπολογίζεται από την παρακάτω εξίσωση: \n",
        "\n",
        "  \n",
        "\n",
        "  \n",
        "\n",
        "$$ z(x) = w^Τx + b $$ \n",
        "\n",
        "  \n",
        "\n",
        "όπου $w$, $b$ είναι τα βάρη του επιπέδου.   \n",
        "\n",
        "  \n",
        "\n",
        "Συνεπώς το δίκτυο είναι απαραίτητο να διατηρεί τους δυο πίνακες με τα βάρη οι οποίοι στην μέθοδο forward θα χρησιμοποιούνται για τον υπολογισμό της εξόδου και θα ανανεώνονται από την μέθοδο backward. Οι πίνακες αυτοί δημιουργούνται κατά την κατασκευή κάθε στιγμιότυπου και αρχικοποιούνται, ο πρώτος τυχαία και ο δεύτερος με μηδενικά.  Στο σημείο αυτό καλείστε να συμπληρώσετε την μέθοδο forward με κατάλληλο τρόπο ώστε να επιτυγχάνεται η επιθυμητή λειτουργικότητα. "
      ]
    },
    {
      "cell_type": "code",
      "execution_count": null,
      "metadata": {
        "id": "HEnuIuOHbZge"
      },
      "outputs": [],
      "source": [
        "class Dense(Layer):\n",
        "    def __init__(self, input_units, output_units, learning_rate = 0.1):\n",
        "        self.input_units = input_units\n",
        "        self.output_units = output_units\n",
        "        \n",
        "        self.learning_rate = learning_rate\n",
        "        self.weights = np.random.normal(loc = 0.0, \n",
        "                                        scale = np.sqrt(2 / (input_units + output_units)), \n",
        "                                        size = (input_units, output_units))\n",
        "        self.biases = np.zeros(output_units)\n",
        "        \n",
        "    def forward(self, input):\n",
        "        \"\"\"\n",
        "        Perform an affine transformation:\n",
        "        f(x) = <W*x> + b\n",
        "        \n",
        "        input shape: [number of inputs, input units]\n",
        "        output shape: [number of inputs, output units]\n",
        "        \"\"\"\n",
        "        ###################\n",
        "        ## Your code below\n",
        "        ## hint: numpy.dot\n",
        "\n",
        "        output = np.dot(input,self.weights) + self.biases\n",
        "        \n",
        "        ## Your code above\n",
        "        ##################\n",
        "        return output\n",
        "\n",
        "    def backward(self, input, grad_output):\n",
        "        # compute d f / d x = d f / d dense * d dense / d x\n",
        "        # where d dense/ d x = weights transposed\n",
        "        grad_input = np.dot(grad_output, self.weights.T)\n",
        "\n",
        "        # compute gradient w.r.t. weights and biases\n",
        "        grad_weights = np.dot(input.T, grad_output)\n",
        "        grad_biases = grad_output.mean(axis = 0) * input.shape[0]\n",
        "        assert grad_weights.shape == self.weights.shape and grad_biases.shape == self.biases.shape\n",
        "\n",
        "        # Here we perform a stochastic gradient descent step. \n",
        "        self.weights = self.weights - self.learning_rate * grad_weights\n",
        "        self.biases = self.biases - self.learning_rate * grad_biases\n",
        "        return grad_input"
      ]
    },
    {
      "cell_type": "markdown",
      "metadata": {
        "id": "Ml2jvLeybeRe"
      },
      "source": [
        "Οι παρακάτω συναρτήσεις χρησιμοποιούνται για να μπορεί το δίκτυο να ελέγχει πόσο κοντά βρίσκονται τα αποτελέσματά του στα πραγματικά (Loss function). Όπως είναι λογικό υπάρχουν διαφορετικές τέτοιες συναρτήσεις ανάλογα το πρόβλημα που καλείται να λύσει το δίκτυο. Η παρακάτω συνάρτηση ονομάζεται [softmax](https://en.wikipedia.org/wiki/Softmax_function) και χρησιμοποιείται κατά κύριο λόγο σε προβλήματα ταξινόμησης όπως το συγκεκριμένο. Η softmax δέχεται σαν είσοδο τις ενεργοποιήσεις του τελευταίου επιπέδου και επιστρέφει μια κατανομή πιθανοτήτων για κάθε μια από τις κλάσεις εξόδου (π.χ. κλάση 0 έχει πιθανότητα 0.001,  η κλάση 1 έχει 0.9 κ.ο.κ.).  "
      ]
    },
    {
      "cell_type": "code",
      "execution_count": null,
      "metadata": {
        "id": "qT7nl_1Gbc0B"
      },
      "outputs": [],
      "source": [
        "def softmax_crossentropy_with_logits(logits, reference_answers):\n",
        "    logits_for_answers = logits[np.arange(len(logits)),reference_answers]\n",
        "    xentropy = - logits_for_answers + np.log(np.sum(np.exp(logits),axis=-1))\n",
        "    return xentropy\n",
        "\n",
        "def grad_softmax_crossentropy_with_logits(logits, reference_answers):\n",
        "    ones_for_answers = np.zeros_like(logits)\n",
        "    ones_for_answers[np.arange(len(logits)),reference_answers] = 1\n",
        "    softmax = np.exp(logits) / np.exp(logits).sum(axis=-1,keepdims=True)\n",
        "    return (- ones_for_answers + softmax) / logits.shape[0]"
      ]
    },
    {
      "cell_type": "markdown",
      "metadata": {
        "id": "5XnSJjxYbhdX"
      },
      "source": [
        "Έχοντας υλοποιήσει τις κλάσεις Dense και ReLU μπορούμε πλέον να κατασκευάσουμε μια κλάση η όποια θα ορίζει ένα πολυεπίπεδο νευρωνικό δίκτυο (MLP). Το δίκτυο αυτό ουσιαστικά αποτελείται από μια ακολουθία Dense επιπέδων όπου το κάθε ένα (εκτός του τελευταίου) ακολουθείται από μια μη-γραμμική συνάρτηση ενεργοποίησης (ReLU). Όμοια με πριν, η κλάση αυτή πρέπει να περιέχει μια μέθοδο forward η όποια θα δέχεται μια είσοδο (εδώ μια εικόνα flatten) και θα επιστρέφει μια έξοδο (εδώ μια κατανομή 3 πιθανοτήτων). Παράλληλα πρέπει να περιέχει και μια μέθοδο fit, η όποια θα εκπαιδεύει το δίκτυο δεδομένου ενός τέτοιου συνόλου (εδώ του x_train). Στο σημείο αυτό χρησιμοποιούνται οι μέθοδοι backward που έχουν οριστεί για κάθε ένα επίπεδο (δεν χρειάζεται να συμπληρώσετε κάτι).  Τέλος θα ήταν βοηθητικό να έχουμε και μια μέθοδο η όποια θα μετατρέπει την κατανομή εξόδου στην επιστρεφόμενη κλάση (predict) για κάποιο ή κάποια στιγμιότυπα του συνόλου δεδομένων.   \n",
        "\n",
        "Το δίκτυο όπως αναφέρθηκε και προηγουμένως αποτελείται από έναν αριθμό Dense επιπέδων κάθε ένα από τα όποια ακολουθείται από μια συνάρτηση ReLU. Η κατασκευή των επιπέδων γίνεται κατά την στιγμή δημιουργίας του δικτύου, όπου δίνεται ως είσοδος μια λίστα με το μέγεθος κάθε επιπέδου, μαζί με το μέγεθος εισόδου. Έτσι για παράδειγμα η παρακάτω γραμμή κώδικα:  \n",
        "``` \n",
        "net = MLP([100, 200, 100, 10], 784)  \n",
        "```  \n",
        "κατασκευάζει ένα MLP το όποιο αποτελείται από 4 επίπεδα με μέγεθος 100, 200, 100, 10. Ο αριθμός των επιπέδων καθώς και του μεγέθους καθενός από αυτά είναι ελεύθερος να οριστεί από τον χρήστη.   \n",
        "Στον constructor της κλάσης ουσιαστικά ορίζεται μια λίστα η όποια περιέχει κάθε ένα από τα επίπεδα που πρέπει να οριστούν, π.χ. για το παραπάνω παράδειγμα η μεταβλητή net.network περιέχει τα εξής στιγμιότυπα των κλάσεων:  \n",
        "\n",
        "``` \n",
        "[Dense(100), ReLU(), Dense(200), ReLU(), Dense(100), ReLU(), Dense(10)]  \n",
        "```  \n",
        "\n",
        "Συνεπώς η λειτουργικότητα του δικτύου όπως και πριν πρέπει να οριστεί στην μέθοδο forward. Στο σημείο αυτό καλείστε να συμπληρώσετε την μέθοδο αυτή έτσι ώστε το δίκτυο να λειτουργεί όπως πρέπει, δηλαδή στο παράδειγμά μας η είσοδος να περνά από το επίπεδο Dense(100), μετά από το ReLU(), στην συνέχεια από το Dense(200) κ.ο.κ. μέχρι και το τελευταίο επίπεδο.  Ο αλγόριθμος αυτός παρουσιάζεται και σε ψευδοκώδικα στην διαφάνεια 33 του μαθήματος. "
      ]
    },
    {
      "cell_type": "code",
      "execution_count": null,
      "metadata": {
        "id": "MHHcg1unbf21"
      },
      "outputs": [],
      "source": [
        "class MLP:\n",
        "    def __init__(self, shapes, input_dim):\n",
        "        self.shapes = shapes\n",
        "        self.network = [Dense(input_dim, shapes[0])]\n",
        "        self.network.append(ReLU())\n",
        "        for i in range(1, len(self.shapes) - 1):\n",
        "            self.network.append(Dense(shapes[i-1], shapes[i]))\n",
        "            self.network.append(ReLU())\n",
        "        self.network.append(Dense(shapes[i], shapes[-1]))\n",
        "\n",
        "    def forward(self, X):\n",
        "        \"\"\"\n",
        "        Αγόριθμος διφάνειας 33\n",
        "        \"\"\"\n",
        "        activations = []\n",
        "        input = X\n",
        "        # Looping through each layer\n",
        "        for l in self.network:\n",
        "            ###################\n",
        "            ## Your code below\n",
        "            # hint: τροφοδοτούμε την έξοδο κάθε επιπέδου στο επόμενο\n",
        "            \n",
        "            activations.append(l.forward(input))\n",
        "            input = activations[-1]\n",
        "\n",
        "\n",
        "            ## Your code above\n",
        "            ##################        \n",
        "        assert len(activations) == len(self.network)\n",
        "        return activations\n",
        "\n",
        "    def predict(self,X):\n",
        "        \"\"\"\n",
        "        Προβλέπει την έξοδο του δικτύου για ένα ή περισσότερα στιγμιότυπα εισόδου\n",
        "        \"\"\"\n",
        "        logits = self.forward(X)[-1]\n",
        "        return logits.argmax(axis = -1)\n",
        "\n",
        "    def fit(self, X, y):\n",
        "        # Get the layer activations\n",
        "        layer_activations = self.forward(X)\n",
        "        layer_inputs = [X]+layer_activations \n",
        "        logits = layer_activations[-1]\n",
        "\n",
        "        # Compute the loss and the initial gradient\n",
        "        loss = softmax_crossentropy_with_logits(logits,y)\n",
        "        loss_grad = grad_softmax_crossentropy_with_logits(logits,y)\n",
        "\n",
        "        # Propagate gradients through the network\n",
        "        # Reverse propogation as this is backprop\n",
        "        for layer_index in range(len(self.network))[::-1]:\n",
        "            layer = self.network[layer_index]\n",
        "            loss_grad = layer.backward(layer_inputs[layer_index],loss_grad) \n",
        "        return np.mean(loss)"
      ]
    },
    {
      "cell_type": "markdown",
      "metadata": {
        "id": "6zCBcKqvbm4t"
      },
      "source": [
        "## Αξιολόγηση ενός Multi-Layer Perceptron\n",
        "\n",
        "Αφού έχουμε κατασκευάσει τα παραπάνω είμαστε πλέον σε θέση να εκπαιδεύσουμε το MLP. Αυτό γίνεται καλώντας την μέθοδο fit. Στο παρακάτω κελί κώδικα ορίζεται το MLP του παραπάνω παραδείγματος και εκπαιδεύεται για 25 εποχές. Στο τέλος κάθε εποχής παρουσιάζονται τα αποτελέσματα του μαζί με μια γραφική των train και test accuracy. "
      ]
    },
    {
      "cell_type": "code",
      "execution_count": null,
      "metadata": {
        "id": "4jw-8qN6bjQG",
        "colab": {
          "base_uri": "https://localhost:8080/",
          "height": 1000
        },
        "outputId": "fec9964b-e036-4706-d61e-e1943c2ae46c"
      },
      "outputs": [
        {
          "output_type": "stream",
          "name": "stdout",
          "text": [
            "Epoch 0\n",
            "Train accuracy: 0.3317495512617464\n",
            "Val accuracy: 0.32610837438423645\n"
          ]
        },
        {
          "output_type": "display_data",
          "data": {
            "image/png": "[encoded data removed]",
            "text/plain": [
              "<Figure size 432x288 with 1 Axes>"
            ]
          },
          "metadata": {
            "needs_background": "light"
          }
        },
        {
          "output_type": "stream",
          "name": "stdout",
          "text": [
            "Epoch 1\n",
            "Train accuracy: 0.3317495512617464\n",
            "Val accuracy: 0.32610837438423645\n"
          ]
        },
        {
          "output_type": "display_data",
          "data": {
            "image/png": "[encoded data removed]",
            "text/plain": [
              "<Figure size 432x288 with 1 Axes>"
            ]
          },
          "metadata": {
            "needs_background": "light"
          }
        },
        {
          "output_type": "stream",
          "name": "stdout",
          "text": [
            "Epoch 2\n",
            "Train accuracy: 0.3317495512617464\n",
            "Val accuracy: 0.32610837438423645\n"
          ]
        },
        {
          "output_type": "display_data",
          "data": {
            "image/png": "[encoded data removed]",
            "text/plain": [
              "<Figure size 432x288 with 1 Axes>"
            ]
          },
          "metadata": {
            "needs_background": "light"
          }
        },
        {
          "output_type": "stream",
          "name": "stdout",
          "text": [
            "Epoch 3\n",
            "Train accuracy: 0.3317495512617464\n",
            "Val accuracy: 0.32610837438423645\n"
          ]
        },
        {
          "output_type": "display_data",
          "data": {
            "image/png": "[encoded data removed]",
            "text/plain": [
              "<Figure size 432x288 with 1 Axes>"
            ]
          },
          "metadata": {
            "needs_background": "light"
          }
        },
        {
          "output_type": "stream",
          "name": "stdout",
          "text": [
            "Epoch 4\n",
            "Train accuracy: 0.3317495512617464\n",
            "Val accuracy: 0.3258620689655172\n"
          ]
        },
        {
          "output_type": "display_data",
          "data": {
            "image/png": "[encoded data removed]",
            "text/plain": [
              "<Figure size 432x288 with 1 Axes>"
            ]
          },
          "metadata": {
            "needs_background": "light"
          }
        },
        {
          "output_type": "stream",
          "name": "stdout",
          "text": [
            "Epoch 5\n",
            "Train accuracy: 0.3317495512617464\n",
            "Val accuracy: 0.3258620689655172\n"
          ]
        },
        {
          "output_type": "display_data",
          "data": {
            "image/png": "[encoded data removed]",
            "text/plain": [
              "<Figure size 432x288 with 1 Axes>"
            ]
          },
          "metadata": {
            "needs_background": "light"
          }
        },
        {
          "output_type": "stream",
          "name": "stdout",
          "text": [
            "Epoch 6\n",
            "Train accuracy: 0.33164396579030725\n",
            "Val accuracy: 0.32561576354679805\n"
          ]
        },
        {
          "output_type": "display_data",
          "data": {
            "image/png": "[encoded data removed]",
            "text/plain": [
              "<Figure size 432x288 with 1 Axes>"
            ]
          },
          "metadata": {
            "needs_background": "light"
          }
        },
        {
          "output_type": "stream",
          "name": "stdout",
          "text": [
            "Epoch 7\n",
            "Train accuracy: 0.33132720937598986\n",
            "Val accuracy: 0.32561576354679805\n"
          ]
        },
        {
          "output_type": "display_data",
          "data": {
            "image/png": "[encoded data removed]",
            "text/plain": [
              "<Figure size 432x288 with 1 Axes>"
            ]
          },
          "metadata": {
            "needs_background": "light"
          }
        },
        {
          "output_type": "stream",
          "name": "stdout",
          "text": [
            "Epoch 8\n",
            "Train accuracy: 0.33122162390455073\n",
            "Val accuracy: 0.32610837438423645\n"
          ]
        },
        {
          "output_type": "display_data",
          "data": {
            "image/png": "[encoded data removed]",
            "text/plain": [
              "<Figure size 432x288 with 1 Axes>"
            ]
          },
          "metadata": {
            "needs_background": "light"
          }
        },
        {
          "output_type": "stream",
          "name": "stdout",
          "text": [
            "Epoch 9\n",
            "Train accuracy: 0.33196072220462464\n",
            "Val accuracy: 0.3270935960591133\n"
          ]
        },
        {
          "output_type": "display_data",
          "data": {
            "image/png": "[encoded data removed]",
            "text/plain": [
              "<Figure size 432x288 with 1 Axes>"
            ]
          },
          "metadata": {
            "needs_background": "light"
          }
        },
        {
          "output_type": "stream",
          "name": "stdout",
          "text": [
            "Epoch 10\n",
            "Train accuracy: 0.3324886495618203\n",
            "Val accuracy: 0.32807881773399017\n"
          ]
        },
        {
          "output_type": "display_data",
          "data": {
            "image/png": "[encoded data removed]",
            "text/plain": [
              "<Figure size 432x288 with 1 Axes>"
            ]
          },
          "metadata": {
            "needs_background": "light"
          }
        },
        {
          "output_type": "stream",
          "name": "stdout",
          "text": [
            "Epoch 11\n",
            "Train accuracy: 0.33343891880477244\n",
            "Val accuracy: 0.3295566502463054\n"
          ]
        },
        {
          "output_type": "display_data",
          "data": {
            "image/png": "[encoded data removed]",
            "text/plain": [
              "<Figure size 432x288 with 1 Axes>"
            ]
          },
          "metadata": {
            "needs_background": "light"
          }
        },
        {
          "output_type": "stream",
          "name": "stdout",
          "text": [
            "Epoch 12\n",
            "Train accuracy: 0.3356562137049942\n",
            "Val accuracy: 0.3315270935960591\n"
          ]
        },
        {
          "output_type": "display_data",
          "data": {
            "image/png": "[encoded data removed]",
            "text/plain": [
              "<Figure size 432x288 with 1 Axes>"
            ]
          },
          "metadata": {
            "needs_background": "light"
          }
        },
        {
          "output_type": "stream",
          "name": "stdout",
          "text": [
            "Epoch 13\n",
            "Train accuracy: 0.33914053426248547\n",
            "Val accuracy: 0.3347290640394089\n"
          ]
        },
        {
          "output_type": "display_data",
          "data": {
            "image/png": "[encoded data removed]",
            "text/plain": [
              "<Figure size 432x288 with 1 Axes>"
            ]
          },
          "metadata": {
            "needs_background": "light"
          }
        },
        {
          "output_type": "stream",
          "name": "stdout",
          "text": [
            "Epoch 14\n",
            "Train accuracy: 0.3442086368915637\n",
            "Val accuracy: 0.3389162561576355\n"
          ]
        },
        {
          "output_type": "display_data",
          "data": {
            "image/png": "[encoded data removed]",
            "text/plain": [
              "<Figure size 432x288 with 1 Axes>"
            ]
          },
          "metadata": {
            "needs_background": "light"
          }
        },
        {
          "output_type": "stream",
          "name": "stdout",
          "text": [
            "Epoch 15\n",
            "Train accuracy: 0.34843205574912894\n",
            "Val accuracy: 0.341871921182266\n"
          ]
        },
        {
          "output_type": "display_data",
          "data": {
            "image/png": "[encoded data removed]",
            "text/plain": [
              "<Figure size 432x288 with 1 Axes>"
            ]
          },
          "metadata": {
            "needs_background": "light"
          }
        },
        {
          "output_type": "stream",
          "name": "stdout",
          "text": [
            "Epoch 16\n",
            "Train accuracy: 0.35476718403547675\n",
            "Val accuracy: 0.345320197044335\n"
          ]
        },
        {
          "output_type": "display_data",
          "data": {
            "image/png": "[encoded data removed]",
            "text/plain": [
              "<Figure size 432x288 with 1 Axes>"
            ]
          },
          "metadata": {
            "needs_background": "light"
          }
        },
        {
          "output_type": "stream",
          "name": "stdout",
          "text": [
            "Epoch 17\n",
            "Train accuracy: 0.36215816703621584\n",
            "Val accuracy: 0.34926108374384235\n"
          ]
        },
        {
          "output_type": "display_data",
          "data": {
            "image/png": "[encoded data removed]",
            "text/plain": [
              "<Figure size 432x288 with 1 Axes>"
            ]
          },
          "metadata": {
            "needs_background": "light"
          }
        },
        {
          "output_type": "stream",
          "name": "stdout",
          "text": [
            "Epoch 18\n",
            "Train accuracy: 0.36859888079400277\n",
            "Val accuracy: 0.3568965517241379\n"
          ]
        },
        {
          "output_type": "display_data",
          "data": {
            "image/png": "[encoded data removed]",
            "text/plain": [
              "<Figure size 432x288 with 1 Axes>"
            ]
          },
          "metadata": {
            "needs_background": "light"
          }
        },
        {
          "output_type": "stream",
          "name": "stdout",
          "text": [
            "Epoch 19\n",
            "Train accuracy: 0.37514518002322883\n",
            "Val accuracy: 0.3657635467980296\n"
          ]
        },
        {
          "output_type": "display_data",
          "data": {
            "image/png": "[encoded data removed]",
            "text/plain": [
              "<Figure size 432x288 with 1 Axes>"
            ]
          },
          "metadata": {
            "needs_background": "light"
          }
        },
        {
          "output_type": "stream",
          "name": "stdout",
          "text": [
            "Epoch 20\n",
            "Train accuracy: 0.38591489811002005\n",
            "Val accuracy: 0.3724137931034483\n"
          ]
        },
        {
          "output_type": "display_data",
          "data": {
            "image/png": "[encoded data removed]",
            "text/plain": [
              "<Figure size 432x288 with 1 Axes>"
            ]
          },
          "metadata": {
            "needs_background": "light"
          }
        },
        {
          "output_type": "stream",
          "name": "stdout",
          "text": [
            "Epoch 21\n",
            "Train accuracy: 0.39805722732552\n",
            "Val accuracy: 0.3810344827586207\n"
          ]
        },
        {
          "output_type": "display_data",
          "data": {
            "image/png": "[encoded data removed]",
            "text/plain": [
              "<Figure size 432x288 with 1 Axes>"
            ]
          },
          "metadata": {
            "needs_background": "light"
          }
        },
        {
          "output_type": "stream",
          "name": "stdout",
          "text": [
            "Epoch 22\n",
            "Train accuracy: 0.40977721465526346\n",
            "Val accuracy: 0.3975369458128079\n"
          ]
        },
        {
          "output_type": "display_data",
          "data": {
            "image/png": "[encoded data removed]",
            "text/plain": [
              "<Figure size 432x288 with 1 Axes>"
            ]
          },
          "metadata": {
            "needs_background": "light"
          }
        },
        {
          "output_type": "stream",
          "name": "stdout",
          "text": [
            "Epoch 23\n",
            "Train accuracy: 0.41970224897054165\n",
            "Val accuracy: 0.4142857142857143\n"
          ]
        },
        {
          "output_type": "display_data",
          "data": {
            "image/png": "[encoded data removed]",
            "text/plain": [
              "<Figure size 432x288 with 1 Axes>"
            ]
          },
          "metadata": {
            "needs_background": "light"
          }
        },
        {
          "output_type": "stream",
          "name": "stdout",
          "text": [
            "Epoch 24\n",
            "Train accuracy: 0.4340618730862633\n",
            "Val accuracy: 0.4273399014778325\n"
          ]
        },
        {
          "output_type": "display_data",
          "data": {
            "image/png": "[encoded data removed]",
            "text/plain": [
              "<Figure size 432x288 with 1 Axes>"
            ]
          },
          "metadata": {
            "needs_background": "light"
          }
        },
        {
          "output_type": "stream",
          "name": "stdout",
          "text": [
            "precision: 0.5430475719064262\n",
            "recall: 0.43225679169390413\n",
            "f1: 0.37938133485457276\n",
            "accuracy: 0.4273399014778325\n",
            "Confusion matrix: \n",
            "[[1173   60   91]\n",
            " [ 905  255  208]\n",
            " [1034   27  307]]\n"
          ]
        }
      ],
      "source": [
        "from IPython.display import clear_output\n",
        "import numpy as np\n",
        "\n",
        "network = MLP([10, 15, 20, 3], len(inputs))\n",
        "\n",
        "train_log = []\n",
        "val_log = []\n",
        "\n",
        "for epoch in range(25):\n",
        "    network.fit(x_train, y_train)   \n",
        "    train_log.append(np.mean(network.predict(x_train) == y_train))\n",
        "    val_log.append(np.mean(network.predict(x_test) == y_test))\n",
        "    #clear_output()\n",
        "    print(\"Epoch\", epoch)\n",
        "    print(\"Train accuracy:\", train_log[-1])\n",
        "    print(\"Val accuracy:\", val_log[-1])  \n",
        "    plt.plot(train_log,label = 'train accuracy')\n",
        "    plt.plot(val_log,label = 'val accuracy')\n",
        "    plt.legend(loc = 'best')\n",
        "    plt.grid()\n",
        "    plt.show()\n",
        "\n",
        "y_pred = network.predict(x_test)\n",
        "\n",
        "eval = Evaluate(y_test, y_pred)\n",
        "eval.get_evaluation_report()"
      ]
    },
    {
      "cell_type": "markdown",
      "metadata": {
        "id": "ygud3NX3b-wN"
      },
      "source": [
        "## Έτοιμο Multi-Layer Perceptron \n",
        "\n",
        "Όπως και με τις τεχνικές των παραπάνω ερωτημάτων έτσι και εδώ υπάρχει έτοιμη η παραπάνω κλάση σε διάφορες βιβλιοθήκες. Έτσι στο δεύτερο μέρος του ερωτήματος αυτού θα κατασκευάσετε το ίδιο MLP χρησιμοποιώντας όμως την έτοιμη κλάση [MLPClassifier](https://scikit-learn.org/stable/modules/generated/sklearn.neural_network.MLPClassifier.html)  της βιβλιοθήκης scikit-learn. Παρακάτω παρουσιάζεται ένα παράδειγμα χρήσης της κλάσης αυτής. "
      ]
    },
    {
      "cell_type": "code",
      "execution_count": null,
      "metadata": {
        "id": "hltXBE2Vbojo",
        "colab": {
          "base_uri": "https://localhost:8080/"
        },
        "outputId": "1989815c-0eca-4c4d-c324-d30e1b8e46cd"
      },
      "outputs": [
        {
          "output_type": "stream",
          "name": "stdout",
          "text": [
            "precision: 0.7313905641453621\n",
            "recall: 0.7188072354434256\n",
            "f1: 0.7189898267927703\n",
            "accuracy: 0.7199507389162562\n",
            "Confusion matrix: \n",
            "[[ 812  318  194]\n",
            " [ 149 1073  146]\n",
            " [  61  269 1038]]\n"
          ]
        },
        {
          "output_type": "stream",
          "name": "stderr",
          "text": [
            "/usr/local/lib/python3.7/dist-packages/sklearn/neural_network/_multilayer_perceptron.py:696: ConvergenceWarning: Stochastic Optimizer: Maximum iterations (25) reached and the optimization hasn't converged yet.\n",
            "  ConvergenceWarning,\n"
          ]
        }
      ],
      "source": [
        "from sklearn.neural_network import MLPClassifier\n",
        "\n",
        "epochs = 25\n",
        "mlp = MLPClassifier(hidden_layer_sizes=(10, 15, 20), max_iter = epochs)\n",
        "\n",
        "mlp.fit(x_train,y_train)\n",
        "\n",
        "y_pred = mlp.predict(x_test)\n",
        "eval = Evaluate(y_test, y_pred)\n",
        "eval.get_evaluation_report()"
      ]
    },
    {
      "cell_type": "markdown",
      "metadata": {
        "id": "DOQYML9wcDBk"
      },
      "source": [
        "## Σύγκριση υλοποιήσεων \n",
        "\n",
        "  \n",
        "\n",
        "Στα παρακάτω κελιά πειραματιστείτε με τις δύο υλοποιήσεις (τη δική σας και την έτοιμη). Συγκρίνετε τα αποτελέσματά σας τόσο ως προς τους χρόνους εκτέλεσης αλλά και ως προς τα αποτελέσματα. Η διαφορά των αποτελεσμάτων προκύπτει από το ότι στην έτοιμη κλάση έχουν γίνει αρκετές βελτιστοποιήσεις στην λειτουργία, στον τρόπο εκπαίδευσης κ.α. με αποτέλεσμα να προκύπτουν καλύτερα αποτέλεσματα. Παρόλα αυτά στην δική μας κλάση έχουμε καλύτερο έλεγχο και έχουμε την δυνατότητα να σχεδιάσουμε πιο σύνθετες αρχιτεκτονικές καθώς να αλλάξουμε τις τιμές παραμέτρων που στην έτοιμη κλάση μπορεί να μην μας δίνεται η δυνατότητα. \n"
      ]
    },
    {
      "cell_type": "markdown",
      "source": [
        "## Σχολιασμός\n",
        "\n",
        "Παρατηρούμε ότι ο δικός μας αλγόριθμος έχει αρκέτα χαμηλότερο accuracy από τον έτοιμο, ο οποίος έχει υποστεί βελτιστοποιήσεις.\n",
        "\n",
        "H βελτιστοποιημένη έκδοση του αλγορίθμου μας της βιβλιοθήκης sklearn βλέπουμε ότι έχει πολύ καλύτερο χρόνο εκτέλεσης και καλύτερα αποτελέσματα στο συγκεκριμένο απλό classification task. Ωστόσο, σε πιο δύσκολα task δεν μπορεί να αποδόσει τόσο καλά ενδεχομένως και δεν είναι εφικτό να πραγματοποιήσουμε αλλαγές ώστε να τη βελτιώσουμε.\n",
        "\n",
        "Αντίθετα με την δική μας υλοποίηση μπορούμε να την τροποποιήσουμε και να την προσαρμόσουμε στα δεδομένα διαφόρων task που μπορεί να έχουμε"
      ],
      "metadata": {
        "id": "7W62aFdw1Xv2"
      }
    },
    {
      "cell_type": "markdown",
      "metadata": {
        "id": "gfrx064gcCr8"
      },
      "source": [
        "# Αξιολόγηση- Συμπεράσματα \n",
        "\n",
        "  \n",
        "\n",
        "Τέλος στο σημείο αυτό καλείστε να αξιολογήσετε τις διάφορες τεχνικές ταξινόμησης (KNN, Naive Bayes, MLP), τα αποτελέσματά τους, τους χρόνους εκτέλεσης, και να παραθέσετε παρατηρήσεις καθώς και οτιδήποτε σας φάνηκε ενδιαφέρον ή ιδιαίτερο. \n",
        "\n"
      ]
    },
    {
      "cell_type": "markdown",
      "source": [
        "Απάντηση/Σχολιασμός:\n",
        "\n",
        "Στη συγκεκριμένη εργασία υλοποιήσαμε 3 αλγορίθμους για ένα εύκολο classification task. Οι χρόνοι εκτέλεσης των αλγορίθμων μας ήταν περίπου ίδιοι με τους έτοιμους. Ωστόσο, τα καλύτερα αποτελέσματα προέκυψαν από τον knn αλγόριθμο, ο οποίος όμως για μεγάλο μέγεθος δεδομένων έχει μεγαλύτερο drop off\n",
        "\n",
        "\n",
        "Ο naive bayes αλγόριθμος αποτελεί έναν απλό αλγόριθμο στατιστικής που χρησιμοποιείται για classification. Στον δικό μας αριθμό δεδομένων που είναι μικρός έχει χειρότερα αποτελέσματα από τον knn, όμως σε μεγαλύτερα δεδομένα θα έχει μεγαλύτερο accuracy και όπως βλέπουμε ακόμη και στα δικά μας δεδομένα εκτελείται σε αρκέτα λιγότερο χρόνο.\n",
        "\n",
        "Από την άλλη η MLP υλοποίηση μπορεί με ορισμένες διαφοροποιήσεις να χρησιμοποιηθεί και σε άλλα πιο σύνθετα classification tasks παράγωντας ικανοποιητικά αποτελέσματα. Με training σε small batches θα μπορούσαμε να πετύχουμε πολύ καλύτερα αποτελέσματα από αυτά που έχουμε"
      ],
      "metadata": {
        "id": "mg-H_2wECiP5"
      }
    }
  ],
  "metadata": {
    "colab": {
      "collapsed_sections": [],
      "name": "3oTest.ipynb",
      "provenance": []
    },
    "kernelspec": {
      "display_name": "Python 3",
      "language": "python",
      "name": "python3"
    },
    "language_info": {
      "codemirror_mode": {
        "name": "ipython",
        "version": 3
      },
      "file_extension": ".py",
      "mimetype": "text/x-python",
      "name": "python",
      "nbconvert_exporter": "python",
      "pygments_lexer": "ipython3",
      "version": "3.8.5"
    }
  },
  "nbformat": 4,
  "nbformat_minor": 0
}